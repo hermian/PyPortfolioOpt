{
 "cells": [
  {
   "cell_type": "markdown",
   "metadata": {},
   "source": [
    "# Mean-variance optimisation\n",
    "\n",
    "<!-- In this cookbook recipe, we work on several examples demonstrating PyPortfolioOpt's mean-variance capabilities. I will discuss what I think should be your \"default\" options, based on my experience in optimising portfolios. -->\n",
    "\n",
    "이 쿡북 레시피에서는 PyPortfolioOpt의 평균 분산 기능을 보여주는 몇 가지 예제를 연구합니다. 포트폴리오 최적화 경험을 바탕으로 \"기본\" 옵션이 되어야한다고 생각하는 것이 무엇인지 논의하겠습니다.\n",
    "\n",
    "<!-- To start, you need a list of tickers. Some people just provide the whole universe of stocks, but I don't think this is a good idea - portfolio optimisation is quite different from asset selection. I would suggest anywhere from 10-50 stocks as a starting point. -->\n",
    "\n",
    "시작하려면 티커 목록이 필요합니다. 어떤 사람들은 주식의 전체 유니버스를 제공 할 뿐이지만 이것이 좋은 생각이라고 생각하지 않습니다. 포트폴리오 최적화는 자산 선택과는 상당히 다릅니다. 나는 시작점으로 10-50주식 중 어느 곳에서나 제안 할 것입니다.\n",
    "\n",
    "<!-- Some of the things we cover:\n",
    "\n",
    "- Downloading data and getting it into PyPortfolioOpt\n",
    "- Calculating and visualising the covariance matrix\n",
    "- Optimising a long/short portfolio to minimise total variance\n",
    "- Optimising a portfolio to maximise the Sharpe ratio, subject to sector constraints\n",
    "- Optimising a portfolio to maximise return for a given risk, subject to sector constraints, with an L2 regularisation objective\n",
    "- Optimising a market-neutral portfolio to minimise risk for a given level of return\n",
    "- Plotting the efficient frontier -->\n",
    "\n",
    "우리가 다루는 몇 가지 사항 :\n",
    "\n",
    "- 데이터 다운로드 및 PyPortfolioOpt로 가져 오기\n",
    "- 공분산 행렬 계산 및 시각화\n",
    "- 총 분산을 최소화하기 위해 롱/숏 포트폴리오 최적화\n",
    "- 섹터 제약에 따라 Sharpe 비율을 최대화하기 위한 포트폴리오 최적화\n",
    "- L2 정규화 목표를 사용하여 섹터 제약에 따라 주어진 위험에 대한 수익을 극대화하기 위해 포트폴리오 최적화\n",
    "- 주어진 수익 수준에 대한 위험을 최소화하기 위해 시장 중립적 포트폴리오 최적화\n",
    "- 효율적인 프론티어 플로팅\n",
    "\n",
    "<!-- Please consult the [docs](https://pyportfolioopt.readthedocs.io/) for more info. -->\n",
    "자세한 내용은 [문서](https://pyportfolioopt.readthedocs.io/) 를 참조하십시오.\n",
    "\n",
    "## Downloading data\n",
    "\n",
    "<!-- To download data, we will use `yfinance`, an excellent library that provides free price data from Yahoo Finance, no API key needed. -->\n",
    "\n",
    "데이터를 다운로드하려면 API 키가 필요없는 Yahoo Finance의 무료 가격 데이터를 제공하는 우수한 라이브러리인 `yfinance`를 사용합니다."
   ]
  },
  {
   "cell_type": "code",
   "execution_count": 1,
   "metadata": {},
   "outputs": [],
   "source": [
    "import yfinance as yf\n",
    "import matplotlib.pyplot as plt\n",
    "import pandas as pd\n",
    "import numpy as np"
   ]
  },
  {
   "cell_type": "code",
   "execution_count": 2,
   "metadata": {},
   "outputs": [],
   "source": [
    "tickers = [\"MSFT\", \"AMZN\", \"KO\", \"MA\", \"COST\", \n",
    "           \"LUV\", \"XOM\", \"PFE\", \"JPM\", \"UNH\", \n",
    "           \"ACN\", \"DIS\", \"GILD\", \"F\", \"TSLA\"] "
   ]
  },
  {
   "cell_type": "code",
   "execution_count": 10,
   "metadata": {},
   "outputs": [
    {
     "name": "stdout",
     "output_type": "stream",
     "text": [
      "[*********************100%***********************]  15 of 15 completed\n"
     ]
    }
   ],
   "source": [
    "ohlc = yf.download(tickers, end=\"2020-09-01\")# period=\"max\")"
   ]
  },
  {
   "cell_type": "code",
   "execution_count": 11,
   "metadata": {},
   "outputs": [
    {
     "data": {
      "text/html": [
       "<div>\n",
       "<style scoped>\n",
       "    .dataframe tbody tr th:only-of-type {\n",
       "        vertical-align: middle;\n",
       "    }\n",
       "\n",
       "    .dataframe tbody tr th {\n",
       "        vertical-align: top;\n",
       "    }\n",
       "\n",
       "    .dataframe thead th {\n",
       "        text-align: right;\n",
       "    }\n",
       "</style>\n",
       "<table border=\"1\" class=\"dataframe\">\n",
       "  <thead>\n",
       "    <tr style=\"text-align: right;\">\n",
       "      <th></th>\n",
       "      <th>ACN</th>\n",
       "      <th>AMZN</th>\n",
       "      <th>COST</th>\n",
       "      <th>DIS</th>\n",
       "      <th>F</th>\n",
       "      <th>GILD</th>\n",
       "      <th>JPM</th>\n",
       "      <th>KO</th>\n",
       "      <th>LUV</th>\n",
       "      <th>MA</th>\n",
       "      <th>MSFT</th>\n",
       "      <th>PFE</th>\n",
       "      <th>TSLA</th>\n",
       "      <th>UNH</th>\n",
       "      <th>XOM</th>\n",
       "    </tr>\n",
       "    <tr>\n",
       "      <th>Date</th>\n",
       "      <th></th>\n",
       "      <th></th>\n",
       "      <th></th>\n",
       "      <th></th>\n",
       "      <th></th>\n",
       "      <th></th>\n",
       "      <th></th>\n",
       "      <th></th>\n",
       "      <th></th>\n",
       "      <th></th>\n",
       "      <th></th>\n",
       "      <th></th>\n",
       "      <th></th>\n",
       "      <th></th>\n",
       "      <th></th>\n",
       "    </tr>\n",
       "  </thead>\n",
       "  <tbody>\n",
       "    <tr>\n",
       "      <th>2020-08-25</th>\n",
       "      <td>237.280869</td>\n",
       "      <td>3346.489990</td>\n",
       "      <td>344.048828</td>\n",
       "      <td>129.789993</td>\n",
       "      <td>6.94</td>\n",
       "      <td>65.365128</td>\n",
       "      <td>99.576004</td>\n",
       "      <td>47.525295</td>\n",
       "      <td>37.060001</td>\n",
       "      <td>347.255646</td>\n",
       "      <td>215.904755</td>\n",
       "      <td>36.071163</td>\n",
       "      <td>404.667999</td>\n",
       "      <td>310.938751</td>\n",
       "      <td>39.916946</td>\n",
       "    </tr>\n",
       "    <tr>\n",
       "      <th>2020-08-26</th>\n",
       "      <td>239.512115</td>\n",
       "      <td>3441.850098</td>\n",
       "      <td>343.609680</td>\n",
       "      <td>132.179993</td>\n",
       "      <td>6.82</td>\n",
       "      <td>64.919792</td>\n",
       "      <td>98.178963</td>\n",
       "      <td>47.773285</td>\n",
       "      <td>36.380001</td>\n",
       "      <td>350.611694</td>\n",
       "      <td>220.572525</td>\n",
       "      <td>35.733086</td>\n",
       "      <td>430.634003</td>\n",
       "      <td>307.552704</td>\n",
       "      <td>39.067440</td>\n",
       "    </tr>\n",
       "    <tr>\n",
       "      <th>2020-08-27</th>\n",
       "      <td>239.930481</td>\n",
       "      <td>3400.000000</td>\n",
       "      <td>345.695648</td>\n",
       "      <td>133.729996</td>\n",
       "      <td>6.91</td>\n",
       "      <td>64.870316</td>\n",
       "      <td>101.408989</td>\n",
       "      <td>47.842724</td>\n",
       "      <td>37.650002</td>\n",
       "      <td>355.585938</td>\n",
       "      <td>225.988358</td>\n",
       "      <td>35.554653</td>\n",
       "      <td>447.750000</td>\n",
       "      <td>310.391022</td>\n",
       "      <td>38.803802</td>\n",
       "    </tr>\n",
       "    <tr>\n",
       "      <th>2020-08-28</th>\n",
       "      <td>242.042221</td>\n",
       "      <td>3401.800049</td>\n",
       "      <td>347.701813</td>\n",
       "      <td>135.539993</td>\n",
       "      <td>6.94</td>\n",
       "      <td>64.583321</td>\n",
       "      <td>101.825127</td>\n",
       "      <td>49.429878</td>\n",
       "      <td>38.810001</td>\n",
       "      <td>365.694153</td>\n",
       "      <td>228.312271</td>\n",
       "      <td>35.601612</td>\n",
       "      <td>442.679993</td>\n",
       "      <td>313.079895</td>\n",
       "      <td>39.731419</td>\n",
       "    </tr>\n",
       "    <tr>\n",
       "      <th>2020-08-31</th>\n",
       "      <td>238.994141</td>\n",
       "      <td>3450.959961</td>\n",
       "      <td>346.993195</td>\n",
       "      <td>131.869995</td>\n",
       "      <td>6.82</td>\n",
       "      <td>66.057869</td>\n",
       "      <td>99.268852</td>\n",
       "      <td>49.132286</td>\n",
       "      <td>37.580002</td>\n",
       "      <td>357.773376</td>\n",
       "      <td>224.941086</td>\n",
       "      <td>35.488914</td>\n",
       "      <td>498.320007</td>\n",
       "      <td>311.267365</td>\n",
       "      <td>38.999088</td>\n",
       "    </tr>\n",
       "  </tbody>\n",
       "</table>\n",
       "</div>"
      ],
      "text/plain": [
       "                   ACN         AMZN        COST         DIS     F       GILD  \\\n",
       "Date                                                                           \n",
       "2020-08-25  237.280869  3346.489990  344.048828  129.789993  6.94  65.365128   \n",
       "2020-08-26  239.512115  3441.850098  343.609680  132.179993  6.82  64.919792   \n",
       "2020-08-27  239.930481  3400.000000  345.695648  133.729996  6.91  64.870316   \n",
       "2020-08-28  242.042221  3401.800049  347.701813  135.539993  6.94  64.583321   \n",
       "2020-08-31  238.994141  3450.959961  346.993195  131.869995  6.82  66.057869   \n",
       "\n",
       "                   JPM         KO        LUV          MA        MSFT  \\\n",
       "Date                                                                   \n",
       "2020-08-25   99.576004  47.525295  37.060001  347.255646  215.904755   \n",
       "2020-08-26   98.178963  47.773285  36.380001  350.611694  220.572525   \n",
       "2020-08-27  101.408989  47.842724  37.650002  355.585938  225.988358   \n",
       "2020-08-28  101.825127  49.429878  38.810001  365.694153  228.312271   \n",
       "2020-08-31   99.268852  49.132286  37.580002  357.773376  224.941086   \n",
       "\n",
       "                  PFE        TSLA         UNH        XOM  \n",
       "Date                                                      \n",
       "2020-08-25  36.071163  404.667999  310.938751  39.916946  \n",
       "2020-08-26  35.733086  430.634003  307.552704  39.067440  \n",
       "2020-08-27  35.554653  447.750000  310.391022  38.803802  \n",
       "2020-08-28  35.601612  442.679993  313.079895  39.731419  \n",
       "2020-08-31  35.488914  498.320007  311.267365  38.999088  "
      ]
     },
     "execution_count": 11,
     "metadata": {},
     "output_type": "execute_result"
    }
   ],
   "source": [
    "prices = ohlc[\"Adj Close\"]\n",
    "prices.tail()"
   ]
  },
  {
   "cell_type": "code",
   "execution_count": 12,
   "metadata": {},
   "outputs": [
    {
     "data": {
      "image/png": "[encoded data removed]",
      "text/plain": [
       "<Figure size 1080x720 with 1 Axes>"
      ]
     },
     "metadata": {
      "needs_background": "light"
     },
     "output_type": "display_data"
    }
   ],
   "source": [
    "prices[prices.index >= \"2008-01-01\"].plot(figsize=(15,10));"
   ]
  },
  {
   "cell_type": "markdown",
   "metadata": {},
   "source": [
    "## Calculating the covariance matrix"
   ]
  },
  {
   "cell_type": "code",
   "execution_count": 13,
   "metadata": {},
   "outputs": [
    {
     "data": {
      "text/plain": [
       "'1.2.7'"
      ]
     },
     "execution_count": 13,
     "metadata": {},
     "output_type": "execute_result"
    }
   ],
   "source": [
    "import pypfopt\n",
    "pypfopt.__version__"
   ]
  },
  {
   "cell_type": "code",
   "execution_count": 14,
   "metadata": {},
   "outputs": [
    {
     "data": {
      "text/html": [
       "<div>\n",
       "<style scoped>\n",
       "    .dataframe tbody tr th:only-of-type {\n",
       "        vertical-align: middle;\n",
       "    }\n",
       "\n",
       "    .dataframe tbody tr th {\n",
       "        vertical-align: top;\n",
       "    }\n",
       "\n",
       "    .dataframe thead th {\n",
       "        text-align: right;\n",
       "    }\n",
       "</style>\n",
       "<table border=\"1\" class=\"dataframe\">\n",
       "  <thead>\n",
       "    <tr style=\"text-align: right;\">\n",
       "      <th></th>\n",
       "      <th>ACN</th>\n",
       "      <th>AMZN</th>\n",
       "      <th>COST</th>\n",
       "      <th>DIS</th>\n",
       "      <th>F</th>\n",
       "      <th>GILD</th>\n",
       "      <th>JPM</th>\n",
       "      <th>KO</th>\n",
       "      <th>LUV</th>\n",
       "      <th>MA</th>\n",
       "      <th>MSFT</th>\n",
       "      <th>PFE</th>\n",
       "      <th>TSLA</th>\n",
       "      <th>UNH</th>\n",
       "      <th>XOM</th>\n",
       "    </tr>\n",
       "  </thead>\n",
       "  <tbody>\n",
       "    <tr>\n",
       "      <th>ACN</th>\n",
       "      <td>0.093101</td>\n",
       "      <td>0.045402</td>\n",
       "      <td>0.027579</td>\n",
       "      <td>0.041180</td>\n",
       "      <td>0.044124</td>\n",
       "      <td>0.030179</td>\n",
       "      <td>0.050221</td>\n",
       "      <td>0.020363</td>\n",
       "      <td>0.037121</td>\n",
       "      <td>0.045800</td>\n",
       "      <td>0.040785</td>\n",
       "      <td>0.026555</td>\n",
       "      <td>0.038645</td>\n",
       "      <td>0.030908</td>\n",
       "      <td>0.031404</td>\n",
       "    </tr>\n",
       "    <tr>\n",
       "      <th>AMZN</th>\n",
       "      <td>0.045402</td>\n",
       "      <td>0.347874</td>\n",
       "      <td>0.047966</td>\n",
       "      <td>0.056218</td>\n",
       "      <td>0.053453</td>\n",
       "      <td>0.062220</td>\n",
       "      <td>0.069724</td>\n",
       "      <td>0.020617</td>\n",
       "      <td>0.048742</td>\n",
       "      <td>0.057515</td>\n",
       "      <td>0.072397</td>\n",
       "      <td>0.033183</td>\n",
       "      <td>0.054143</td>\n",
       "      <td>0.035810</td>\n",
       "      <td>0.028026</td>\n",
       "    </tr>\n",
       "    <tr>\n",
       "      <th>COST</th>\n",
       "      <td>0.027579</td>\n",
       "      <td>0.047966</td>\n",
       "      <td>0.103878</td>\n",
       "      <td>0.032728</td>\n",
       "      <td>0.031600</td>\n",
       "      <td>0.028074</td>\n",
       "      <td>0.040050</td>\n",
       "      <td>0.021839</td>\n",
       "      <td>0.032320</td>\n",
       "      <td>0.033329</td>\n",
       "      <td>0.037204</td>\n",
       "      <td>0.026105</td>\n",
       "      <td>0.021722</td>\n",
       "      <td>0.027829</td>\n",
       "      <td>0.021283</td>\n",
       "    </tr>\n",
       "    <tr>\n",
       "      <th>DIS</th>\n",
       "      <td>0.041180</td>\n",
       "      <td>0.056218</td>\n",
       "      <td>0.032728</td>\n",
       "      <td>0.099509</td>\n",
       "      <td>0.040138</td>\n",
       "      <td>0.033636</td>\n",
       "      <td>0.047294</td>\n",
       "      <td>0.026311</td>\n",
       "      <td>0.038330</td>\n",
       "      <td>0.050043</td>\n",
       "      <td>0.043218</td>\n",
       "      <td>0.030075</td>\n",
       "      <td>0.039173</td>\n",
       "      <td>0.032755</td>\n",
       "      <td>0.025173</td>\n",
       "    </tr>\n",
       "    <tr>\n",
       "      <th>F</th>\n",
       "      <td>0.044124</td>\n",
       "      <td>0.053453</td>\n",
       "      <td>0.031600</td>\n",
       "      <td>0.040138</td>\n",
       "      <td>0.124628</td>\n",
       "      <td>0.030863</td>\n",
       "      <td>0.054440</td>\n",
       "      <td>0.026589</td>\n",
       "      <td>0.045027</td>\n",
       "      <td>0.064004</td>\n",
       "      <td>0.041669</td>\n",
       "      <td>0.027872</td>\n",
       "      <td>0.051121</td>\n",
       "      <td>0.029749</td>\n",
       "      <td>0.026879</td>\n",
       "    </tr>\n",
       "    <tr>\n",
       "      <th>GILD</th>\n",
       "      <td>0.030179</td>\n",
       "      <td>0.062220</td>\n",
       "      <td>0.028074</td>\n",
       "      <td>0.033636</td>\n",
       "      <td>0.030863</td>\n",
       "      <td>0.246924</td>\n",
       "      <td>0.044305</td>\n",
       "      <td>0.017132</td>\n",
       "      <td>0.032313</td>\n",
       "      <td>0.034861</td>\n",
       "      <td>0.036681</td>\n",
       "      <td>0.033487</td>\n",
       "      <td>0.034241</td>\n",
       "      <td>0.035147</td>\n",
       "      <td>0.021653</td>\n",
       "    </tr>\n",
       "    <tr>\n",
       "      <th>JPM</th>\n",
       "      <td>0.050221</td>\n",
       "      <td>0.069724</td>\n",
       "      <td>0.040050</td>\n",
       "      <td>0.047294</td>\n",
       "      <td>0.054440</td>\n",
       "      <td>0.044305</td>\n",
       "      <td>0.130800</td>\n",
       "      <td>0.027983</td>\n",
       "      <td>0.048713</td>\n",
       "      <td>0.073403</td>\n",
       "      <td>0.050876</td>\n",
       "      <td>0.033593</td>\n",
       "      <td>0.040914</td>\n",
       "      <td>0.039591</td>\n",
       "      <td>0.032518</td>\n",
       "    </tr>\n",
       "    <tr>\n",
       "      <th>KO</th>\n",
       "      <td>0.020363</td>\n",
       "      <td>0.020617</td>\n",
       "      <td>0.021839</td>\n",
       "      <td>0.026311</td>\n",
       "      <td>0.026589</td>\n",
       "      <td>0.017132</td>\n",
       "      <td>0.027983</td>\n",
       "      <td>0.058422</td>\n",
       "      <td>0.023279</td>\n",
       "      <td>0.026213</td>\n",
       "      <td>0.028784</td>\n",
       "      <td>0.026637</td>\n",
       "      <td>0.019759</td>\n",
       "      <td>0.023436</td>\n",
       "      <td>0.020727</td>\n",
       "    </tr>\n",
       "    <tr>\n",
       "      <th>LUV</th>\n",
       "      <td>0.037121</td>\n",
       "      <td>0.048742</td>\n",
       "      <td>0.032320</td>\n",
       "      <td>0.038330</td>\n",
       "      <td>0.045027</td>\n",
       "      <td>0.032313</td>\n",
       "      <td>0.048713</td>\n",
       "      <td>0.023279</td>\n",
       "      <td>0.139020</td>\n",
       "      <td>0.047627</td>\n",
       "      <td>0.037595</td>\n",
       "      <td>0.026710</td>\n",
       "      <td>0.037041</td>\n",
       "      <td>0.033549</td>\n",
       "      <td>0.022298</td>\n",
       "    </tr>\n",
       "    <tr>\n",
       "      <th>MA</th>\n",
       "      <td>0.045800</td>\n",
       "      <td>0.057515</td>\n",
       "      <td>0.033329</td>\n",
       "      <td>0.050043</td>\n",
       "      <td>0.064004</td>\n",
       "      <td>0.034861</td>\n",
       "      <td>0.073403</td>\n",
       "      <td>0.026213</td>\n",
       "      <td>0.047627</td>\n",
       "      <td>0.121470</td>\n",
       "      <td>0.049874</td>\n",
       "      <td>0.034202</td>\n",
       "      <td>0.045693</td>\n",
       "      <td>0.044920</td>\n",
       "      <td>0.043070</td>\n",
       "    </tr>\n",
       "    <tr>\n",
       "      <th>MSFT</th>\n",
       "      <td>0.040785</td>\n",
       "      <td>0.072397</td>\n",
       "      <td>0.037204</td>\n",
       "      <td>0.043218</td>\n",
       "      <td>0.041669</td>\n",
       "      <td>0.036681</td>\n",
       "      <td>0.050876</td>\n",
       "      <td>0.028784</td>\n",
       "      <td>0.037595</td>\n",
       "      <td>0.049874</td>\n",
       "      <td>0.116629</td>\n",
       "      <td>0.031630</td>\n",
       "      <td>0.043878</td>\n",
       "      <td>0.034460</td>\n",
       "      <td>0.030195</td>\n",
       "    </tr>\n",
       "    <tr>\n",
       "      <th>PFE</th>\n",
       "      <td>0.026555</td>\n",
       "      <td>0.033183</td>\n",
       "      <td>0.026105</td>\n",
       "      <td>0.030075</td>\n",
       "      <td>0.027872</td>\n",
       "      <td>0.033487</td>\n",
       "      <td>0.033593</td>\n",
       "      <td>0.026637</td>\n",
       "      <td>0.026710</td>\n",
       "      <td>0.034202</td>\n",
       "      <td>0.031630</td>\n",
       "      <td>0.076281</td>\n",
       "      <td>0.020966</td>\n",
       "      <td>0.028782</td>\n",
       "      <td>0.023377</td>\n",
       "    </tr>\n",
       "    <tr>\n",
       "      <th>TSLA</th>\n",
       "      <td>0.038645</td>\n",
       "      <td>0.054143</td>\n",
       "      <td>0.021722</td>\n",
       "      <td>0.039173</td>\n",
       "      <td>0.051121</td>\n",
       "      <td>0.034241</td>\n",
       "      <td>0.040914</td>\n",
       "      <td>0.019759</td>\n",
       "      <td>0.037041</td>\n",
       "      <td>0.045693</td>\n",
       "      <td>0.043878</td>\n",
       "      <td>0.020966</td>\n",
       "      <td>0.307987</td>\n",
       "      <td>0.033155</td>\n",
       "      <td>0.031588</td>\n",
       "    </tr>\n",
       "    <tr>\n",
       "      <th>UNH</th>\n",
       "      <td>0.030908</td>\n",
       "      <td>0.035810</td>\n",
       "      <td>0.027829</td>\n",
       "      <td>0.032755</td>\n",
       "      <td>0.029749</td>\n",
       "      <td>0.035147</td>\n",
       "      <td>0.039591</td>\n",
       "      <td>0.023436</td>\n",
       "      <td>0.033549</td>\n",
       "      <td>0.044920</td>\n",
       "      <td>0.034460</td>\n",
       "      <td>0.028782</td>\n",
       "      <td>0.033155</td>\n",
       "      <td>0.168260</td>\n",
       "      <td>0.022862</td>\n",
       "    </tr>\n",
       "    <tr>\n",
       "      <th>XOM</th>\n",
       "      <td>0.031404</td>\n",
       "      <td>0.028026</td>\n",
       "      <td>0.021283</td>\n",
       "      <td>0.025173</td>\n",
       "      <td>0.026879</td>\n",
       "      <td>0.021653</td>\n",
       "      <td>0.032518</td>\n",
       "      <td>0.020727</td>\n",
       "      <td>0.022298</td>\n",
       "      <td>0.043070</td>\n",
       "      <td>0.030195</td>\n",
       "      <td>0.023377</td>\n",
       "      <td>0.031588</td>\n",
       "      <td>0.022862</td>\n",
       "      <td>0.050080</td>\n",
       "    </tr>\n",
       "  </tbody>\n",
       "</table>\n",
       "</div>"
      ],
      "text/plain": [
       "           ACN      AMZN      COST       DIS         F      GILD       JPM  \\\n",
       "ACN   0.093101  0.045402  0.027579  0.041180  0.044124  0.030179  0.050221   \n",
       "AMZN  0.045402  0.347874  0.047966  0.056218  0.053453  0.062220  0.069724   \n",
       "COST  0.027579  0.047966  0.103878  0.032728  0.031600  0.028074  0.040050   \n",
       "DIS   0.041180  0.056218  0.032728  0.099509  0.040138  0.033636  0.047294   \n",
       "F     0.044124  0.053453  0.031600  0.040138  0.124628  0.030863  0.054440   \n",
       "GILD  0.030179  0.062220  0.028074  0.033636  0.030863  0.246924  0.044305   \n",
       "JPM   0.050221  0.069724  0.040050  0.047294  0.054440  0.044305  0.130800   \n",
       "KO    0.020363  0.020617  0.021839  0.026311  0.026589  0.017132  0.027983   \n",
       "LUV   0.037121  0.048742  0.032320  0.038330  0.045027  0.032313  0.048713   \n",
       "MA    0.045800  0.057515  0.033329  0.050043  0.064004  0.034861  0.073403   \n",
       "MSFT  0.040785  0.072397  0.037204  0.043218  0.041669  0.036681  0.050876   \n",
       "PFE   0.026555  0.033183  0.026105  0.030075  0.027872  0.033487  0.033593   \n",
       "TSLA  0.038645  0.054143  0.021722  0.039173  0.051121  0.034241  0.040914   \n",
       "UNH   0.030908  0.035810  0.027829  0.032755  0.029749  0.035147  0.039591   \n",
       "XOM   0.031404  0.028026  0.021283  0.025173  0.026879  0.021653  0.032518   \n",
       "\n",
       "            KO       LUV        MA      MSFT       PFE      TSLA       UNH  \\\n",
       "ACN   0.020363  0.037121  0.045800  0.040785  0.026555  0.038645  0.030908   \n",
       "AMZN  0.020617  0.048742  0.057515  0.072397  0.033183  0.054143  0.035810   \n",
       "COST  0.021839  0.032320  0.033329  0.037204  0.026105  0.021722  0.027829   \n",
       "DIS   0.026311  0.038330  0.050043  0.043218  0.030075  0.039173  0.032755   \n",
       "F     0.026589  0.045027  0.064004  0.041669  0.027872  0.051121  0.029749   \n",
       "GILD  0.017132  0.032313  0.034861  0.036681  0.033487  0.034241  0.035147   \n",
       "JPM   0.027983  0.048713  0.073403  0.050876  0.033593  0.040914  0.039591   \n",
       "KO    0.058422  0.023279  0.026213  0.028784  0.026637  0.019759  0.023436   \n",
       "LUV   0.023279  0.139020  0.047627  0.037595  0.026710  0.037041  0.033549   \n",
       "MA    0.026213  0.047627  0.121470  0.049874  0.034202  0.045693  0.044920   \n",
       "MSFT  0.028784  0.037595  0.049874  0.116629  0.031630  0.043878  0.034460   \n",
       "PFE   0.026637  0.026710  0.034202  0.031630  0.076281  0.020966  0.028782   \n",
       "TSLA  0.019759  0.037041  0.045693  0.043878  0.020966  0.307987  0.033155   \n",
       "UNH   0.023436  0.033549  0.044920  0.034460  0.028782  0.033155  0.168260   \n",
       "XOM   0.020727  0.022298  0.043070  0.030195  0.023377  0.031588  0.022862   \n",
       "\n",
       "           XOM  \n",
       "ACN   0.031404  \n",
       "AMZN  0.028026  \n",
       "COST  0.021283  \n",
       "DIS   0.025173  \n",
       "F     0.026879  \n",
       "GILD  0.021653  \n",
       "JPM   0.032518  \n",
       "KO    0.020727  \n",
       "LUV   0.022298  \n",
       "MA    0.043070  \n",
       "MSFT  0.030195  \n",
       "PFE   0.023377  \n",
       "TSLA  0.031588  \n",
       "UNH   0.022862  \n",
       "XOM   0.050080  "
      ]
     },
     "execution_count": 14,
     "metadata": {},
     "output_type": "execute_result"
    }
   ],
   "source": [
    "from pypfopt import risk_models\n",
    "from pypfopt import plotting\n",
    "\n",
    "sample_cov = risk_models.sample_cov(prices, frequency=252)\n",
    "sample_cov"
   ]
  },
  {
   "cell_type": "code",
   "execution_count": 15,
   "metadata": {},
   "outputs": [
    {
     "data": {
      "image/png": "[encoded data removed]",
      "text/plain": [
       "<Figure size 432x288 with 2 Axes>"
      ]
     },
     "metadata": {
      "needs_background": "light"
     },
     "output_type": "display_data"
    }
   ],
   "source": [
    "plotting.plot_covariance(sample_cov, plot_correlation=True);"
   ]
  },
  {
   "cell_type": "markdown",
   "metadata": {},
   "source": [
    "<!-- For reasons discussed in the docs, the sample covariance matrix should not be your default choice. I think a better option is Ledoit-Wolf shrinkage, which reduces the extreme values in the covariance matrix. In the image below, we can see that there are fewer bright spots outside the diagonal: -->\n",
    "\n",
    "문서에서 논의 된 이유 때문에 샘플 공분산 행렬이 기본 선택이 되어서는 안됩니다. 더 나은 옵션은 공분산 행렬의 극한 값을 줄이는 Ledoit-Wolf 수축이라고 생각합니다. 아래 이미지에서 대각선 외부에 밝은 점이 더 적음을 알 수 있습니다."
   ]
  },
  {
   "cell_type": "code",
   "execution_count": 16,
   "metadata": {},
   "outputs": [
    {
     "data": {
      "image/png": "[encoded data removed]",
      "text/plain": [
       "<Figure size 432x288 with 2 Axes>"
      ]
     },
     "metadata": {
      "needs_background": "light"
     },
     "output_type": "display_data"
    }
   ],
   "source": [
    "S = risk_models.CovarianceShrinkage(prices).ledoit_wolf()\n",
    "plotting.plot_covariance(S, plot_correlation=True);"
   ]
  },
  {
   "cell_type": "markdown",
   "metadata": {},
   "source": [
    "## Return estimation\n",
    "\n",
    "<!-- As discussed in the docs, it is often a bad idea to provide returns using a simple estimate like the mean of past returns. Generally, unless you have a proprietary method for estimating returns, I would skip this altogether and just find the `min_volatility()` portfolio or use `HRP`.  -->\n",
    "\n",
    "문서에서 논의했듯이 과거 수익률의 평균과 같은 간단한 추정치를 사용하여 수익을 제공하는 것은 종종 나쁜 생각입니다. 일반적으로 수익을 추정하는 독점적인 방법이 없는 경우에는 이를 모두 건너 뛰고 `min_volatility()` 포트폴리오를 찾거나 `HRP`를 사용합니다.\n",
    "\n",
    "<!-- However, in this example we will use the CAPM returns, which aims to be slightly more stable than the default mean historical return. Please see the notebook `1-RiskReturnModels.ipynb` for more information. -->\n",
    "\n",
    "그러나 이 예에서는 기본 평균 과거 수익률보다 약간 더 안정적인 것을 목표로 하는 CAPM 수익률을 사용합니다. 자세한 내용은 노트북 1-RiskReturnModels.ipynb를 참조하십시오."
   ]
  },
  {
   "cell_type": "code",
   "execution_count": 17,
   "metadata": {},
   "outputs": [
    {
     "data": {
      "text/plain": [
       "ACN     0.215531\n",
       "AMZN    0.373825\n",
       "COST    0.201298\n",
       "DIS     0.228533\n",
       "F       0.228052\n",
       "GILD    0.267807\n",
       "JPM     0.259497\n",
       "KO      0.154221\n",
       "LUV     0.232095\n",
       "MA      0.271994\n",
       "MSFT    0.246226\n",
       "PFE     0.184160\n",
       "TSLA    0.283633\n",
       "UNH     0.228893\n",
       "XOM     0.143112\n",
       "Name: mkt, dtype: float64"
      ]
     },
     "execution_count": 17,
     "metadata": {},
     "output_type": "execute_result"
    }
   ],
   "source": [
    "from pypfopt import expected_returns\n",
    "\n",
    "mu = expected_returns.capm_return(prices)\n",
    "mu"
   ]
  },
  {
   "cell_type": "code",
   "execution_count": 18,
   "metadata": {},
   "outputs": [
    {
     "data": {
      "image/png": "[encoded data removed]",
      "text/plain": [
       "<Figure size 720x432 with 1 Axes>"
      ]
     },
     "metadata": {
      "needs_background": "light"
     },
     "output_type": "display_data"
    }
   ],
   "source": [
    "mu.plot.barh(figsize=(10,6));"
   ]
  },
  {
   "cell_type": "markdown",
   "metadata": {},
   "source": [
    "## Long/short min variance\n",
    "\n",
    "<!-- In this section, we construct a long/short portfolio with the objective of minimising variance. There is a good deal of research that demonstrates how global-minimum variance (GMV) portfolios outperform mean-variance optimised portfolios. -->\n",
    "\n",
    "이 섹션에서는 분산 최소화를 목적으로 롱/숏 포트폴리오를 구성합니다. GMV(global-minimum variance) 포트폴리오가 평균 분산 최적화 포트폴리오를 능가하는 방법을 보여주는 많은 연구가 있습니다."
   ]
  },
  {
   "cell_type": "code",
   "execution_count": 19,
   "metadata": {},
   "outputs": [],
   "source": [
    "from pypfopt import EfficientFrontier"
   ]
  },
  {
   "cell_type": "code",
   "execution_count": 20,
   "metadata": {},
   "outputs": [
    {
     "name": "stderr",
     "output_type": "stream",
     "text": [
      "/Users/hosung/anaconda3/envs/quantpython/lib/python3.7/site-packages/pypfopt/efficient_frontier.py:112: UserWarning: No expected returns provided. You may only use ef.min_volatility()\n",
      "  \"No expected returns provided. You may only use ef.min_volatility()\"\n"
     ]
    },
    {
     "data": {
      "text/plain": [
       "OrderedDict([('ACN', 0.23135),\n",
       "             ('AMZN', 0.00782),\n",
       "             ('COST', 0.09556),\n",
       "             ('DIS', -0.01498),\n",
       "             ('F', -0.01774),\n",
       "             ('GILD', 0.03986),\n",
       "             ('JPM', -0.05091),\n",
       "             ('KO', 0.10889),\n",
       "             ('LUV', 0.02433),\n",
       "             ('MA', 0.24247),\n",
       "             ('MSFT', 0.0042),\n",
       "             ('PFE', 0.06255),\n",
       "             ('TSLA', 0.16208),\n",
       "             ('UNH', 0.02874),\n",
       "             ('XOM', 0.07579)])"
      ]
     },
     "execution_count": 20,
     "metadata": {},
     "output_type": "execute_result"
    }
   ],
   "source": [
    "S = risk_models.CovarianceShrinkage(prices).ledoit_wolf()\n",
    "\n",
    "# You don't have to provide expected returns in this case\n",
    "ef = EfficientFrontier(None, S, weight_bounds=(None, None))\n",
    "ef.min_volatility()\n",
    "weights = ef.clean_weights()\n",
    "weights"
   ]
  },
  {
   "cell_type": "code",
   "execution_count": 21,
   "metadata": {},
   "outputs": [
    {
     "data": {
      "image/png": "[encoded data removed]",
      "text/plain": [
       "<Figure size 432x288 with 1 Axes>"
      ]
     },
     "metadata": {
      "needs_background": "light"
     },
     "output_type": "display_data"
    }
   ],
   "source": [
    "pd.Series(weights).plot.barh();"
   ]
  },
  {
   "cell_type": "markdown",
   "metadata": {},
   "source": [
    "<!-- We can get a quick indication of the portfolio performance as follows. Note that this is an in sample estimate and may have very little resemblance to how the portfolio actually performs! -->\n",
    "\n",
    "다음과 같이 포트폴리오 실적을 빠르게 확인할 수 있습니다. 이것은 샘플 추정치이며 포트폴리오가 실제로 수행되는 방식과 거의 유사하지 않을 수 있습니다!"
   ]
  },
  {
   "cell_type": "code",
   "execution_count": 22,
   "metadata": {},
   "outputs": [
    {
     "name": "stdout",
     "output_type": "stream",
     "text": [
      "Annual volatility: 11.7%\n"
     ]
    }
   ],
   "source": [
    "ef.portfolio_performance(verbose=True);"
   ]
  },
  {
   "cell_type": "markdown",
   "metadata": {},
   "source": [
    "<!-- Let's say we were happy with this portfolio and wanted to actually go out and buy the shares.  To do this, we would need to construct a **discrete allocation** (unless your broker supports fractional shares!) -->\n",
    "\n",
    "우리가 이 포트폴리오에 만족했고 실제로 나가서 주식을 사고 싶었다고 가정해 봅시다. 이를 위해서는 **개별 할당**<sup>discrete allocation</sup>을 구성해야합니다 (중개업자가 부분 지분을 지원하지 않는 한!).\n",
    "\n",
    "\n",
    "<!-- If we had \\$20,0000 to invest and would like our portfolio to be 130/30 long/short, we can construct the actual allocation as follows: -->\n",
    "\n",
    "투자 할 \\$20,0000이 있고 포트폴리오가 130/30 롱/숏이되도록 하려면 실제 할당을 다음과 같이 구성 할 수 있습니다."
   ]
  },
  {
   "cell_type": "code",
   "execution_count": 23,
   "metadata": {},
   "outputs": [
    {
     "name": "stdout",
     "output_type": "stream",
     "text": [
      "Discrete allocation performed with $10.57 leftover\n"
     ]
    },
    {
     "data": {
      "text/plain": [
       "{'ACN': 18,\n",
       " 'COST': 5,\n",
       " 'GILD': 11,\n",
       " 'KO': 41,\n",
       " 'LUV': 12,\n",
       " 'MA': 13,\n",
       " 'PFE': 32,\n",
       " 'TSLA': 6,\n",
       " 'UNH': 2,\n",
       " 'XOM': 35,\n",
       " 'DIS': -8,\n",
       " 'F': -186,\n",
       " 'JPM': -37}"
      ]
     },
     "execution_count": 23,
     "metadata": {},
     "output_type": "execute_result"
    }
   ],
   "source": [
    "from pypfopt import DiscreteAllocation\n",
    "\n",
    "latest_prices = prices.iloc[-1]  # prices as of the day you are allocating\n",
    "da = DiscreteAllocation(weights, latest_prices, total_portfolio_value=20000, short_ratio=0.3)\n",
    "alloc, leftover = da.lp_portfolio()\n",
    "print(f\"Discrete allocation performed with ${leftover:.2f} leftover\")\n",
    "alloc"
   ]
  },
  {
   "cell_type": "markdown",
   "metadata": {},
   "source": [
    "## Max Sharpe with sector constraints\n",
    "\n",
    "<!-- If you have your own model for returns (or have read the warnings and want to proceed anyways), you may consider maximising the Sharpe ratio. This theoretically gives the optimal portfolio in terms of risks-returns. -->\n",
    "\n",
    "수익률에 대한 자체 모델이 있거나 경고를 읽고 계속 진행하려는 경우 Sharpe 비율을 최대화하는 것을 고려할 수 있습니다. 이것은 이론적으로 위험-수익 측면에서 최적의 포트폴리오를 제공합니다.\n",
    "\n",
    "<!-- In this section, we construct a long-only max-sharpe portfolio, but also incorporate sector constraints. Sector constraints require three things. A `sector_mapper`, your `sector_lower` bounds, and your `sector_upper` bounds. -->\n",
    "\n",
    "이 섹션에서 우리는 롱-온리 전용 최대 샤프 포트폴리오를 구성하지만 섹터 제약도 포함합니다. 섹터 제약에는 세 가지가 필요합니다. `sector_mapper`, 당신의 `sector_lower` 경계, 그리고 당신의 `sector_upper` 경계."
   ]
  },
  {
   "cell_type": "code",
   "execution_count": 24,
   "metadata": {},
   "outputs": [],
   "source": [
    "sector_mapper = {\n",
    "    \"MSFT\": \"Tech\",\n",
    "    \"AMZN\": \"Consumer Discretionary\",\n",
    "    \"KO\": \"Consumer Staples\",\n",
    "    \"MA\": \"Financial Services\",\n",
    "    \"COST\": \"Consumer Staples\",\n",
    "    \"LUV\": \"Aerospace\",\n",
    "    \"XOM\": \"Energy\",\n",
    "    \"PFE\": \"Healthcare\",\n",
    "    \"JPM\": \"Financial Services\",\n",
    "    \"UNH\": \"Healthcare\",\n",
    "    \"ACN\": \"Misc\",\n",
    "    \"DIS\": \"Media\",\n",
    "    \"GILD\": \"Healthcare\",\n",
    "    \"F\": \"Auto\",\n",
    "    \"TSLA\": \"Auto\"\n",
    "}\n",
    "\n",
    "sector_lower = {\n",
    "    \"Consumer Staples\": 0.1, # at least 10% to staples\n",
    "    \"Tech\": 0.05 # at least 5% to tech\n",
    "    # For all other sectors, it will be assumed there is no lower bound\n",
    "}\n",
    "\n",
    "sector_upper = {\n",
    "    \"Tech\": 0.2,\n",
    "    \"Aerospace\":0.1,\n",
    "    \"Energy\": 0.1,\n",
    "    \"Auto\":0.15\n",
    "}"
   ]
  },
  {
   "cell_type": "markdown",
   "metadata": {},
   "source": [
    "<!-- We then set up the optimiser and add our constraints. We can use `ef.add_objective()` to add other constraints. For example, let's say that in addition to the above sector constraints, I specifically want:\n",
    "\n",
    "- 10% of the portfolio in AMZN\n",
    "- Less than 5% of my portfolio in TSLA -->\n",
    "\n",
    "그런 다음 옵티 마이저를 설정하고 제약 조건을 추가합니다. `ef.add_objective()`를 사용하여 다른 제약 조건을 추가 할 수 있습니다. 예를 들어, 위의 섹터 제약외에도, 구체적으로 다음과 같은 것을 원한다고 가정 해 보겠습니다.\n",
    "\n",
    "- AMZN 포트폴리오의 10%\n",
    "- TSLA에서 포트폴리오의 5% 미만"
   ]
  },
  {
   "cell_type": "code",
   "execution_count": 25,
   "metadata": {},
   "outputs": [],
   "source": [
    "mu = expected_returns.capm_return(prices)\n",
    "S = risk_models.CovarianceShrinkage(prices).ledoit_wolf()\n",
    "\n",
    "ef = EfficientFrontier(mu, S)  # weight_bounds automatically set to (0, 1)\n",
    "ef.add_sector_constraints(sector_mapper, sector_lower, sector_upper)\n",
    "\n",
    "amzn_index = ef.tickers.index(\"AMZN\")\n",
    "ef.add_constraint(lambda w: w[amzn_index] == 0.10)\n",
    "\n",
    "tsla_index = ef.tickers.index(\"TSLA\")\n",
    "ef.add_constraint(lambda w: w[tsla_index] <= 0.05)\n",
    "\n",
    "ef.add_constraint(lambda w: w[10] >= 0.05)\n",
    "\n",
    "ef.max_sharpe()\n",
    "weights = ef.clean_weights()"
   ]
  },
  {
   "cell_type": "code",
   "execution_count": 26,
   "metadata": {},
   "outputs": [
    {
     "data": {
      "text/plain": [
       "OrderedDict([('ACN', 0.17067),\n",
       "             ('AMZN', 0.1),\n",
       "             ('COST', 0.05544),\n",
       "             ('DIS', 0.0),\n",
       "             ('F', 0.0),\n",
       "             ('GILD', 0.05858),\n",
       "             ('JPM', 0.0),\n",
       "             ('KO', 0.04456),\n",
       "             ('LUV', 0.01823),\n",
       "             ('MA', 0.40389),\n",
       "             ('MSFT', 0.05),\n",
       "             ('PFE', 0.01781),\n",
       "             ('TSLA', 0.05),\n",
       "             ('UNH', 0.03081),\n",
       "             ('XOM', 0.0)])"
      ]
     },
     "execution_count": 26,
     "metadata": {},
     "output_type": "execute_result"
    }
   ],
   "source": [
    "weights"
   ]
  },
  {
   "cell_type": "code",
   "execution_count": 27,
   "metadata": {},
   "outputs": [
    {
     "data": {
      "image/png": "[encoded data removed]",
      "text/plain": [
       "<Figure size 720x720 with 1 Axes>"
      ]
     },
     "metadata": {},
     "output_type": "display_data"
    }
   ],
   "source": [
    "pd.Series(weights).plot.pie(figsize=(10,10));"
   ]
  },
  {
   "cell_type": "markdown",
   "metadata": {},
   "source": [
    "<!-- We can immediately see that our explicit constraints were satisfied, and can check all the sector constraints as follows: -->\n",
    "\n",
    "명시적 제약조건이 충족되었음을 즉시 확인할 수 있으며, 다음과 같이 모든 섹터 제약을 확인할 수 있습니다.\n"
   ]
  },
  {
   "cell_type": "code",
   "execution_count": 28,
   "metadata": {},
   "outputs": [
    {
     "name": "stdout",
     "output_type": "stream",
     "text": [
      "Tech: 0.050\n",
      "Auto: 0.050\n",
      "Aerospace: 0.018\n",
      "Healthcare: 0.107\n",
      "Consumer Discretionary: 0.100\n",
      "Misc: 0.171\n",
      "Financial Services: 0.404\n",
      "Energy: 0.000\n",
      "Media: 0.000\n",
      "Consumer Staples: 0.100\n"
     ]
    }
   ],
   "source": [
    "# O(N^2) loop not a good idea in a coding interview :)\n",
    "for sector in set(sector_mapper.values()):\n",
    "    total_weight = 0\n",
    "    for t,w in weights.items():\n",
    "        if sector_mapper[t] == sector:\n",
    "            total_weight += w\n",
    "    print(f\"{sector}: {total_weight:.3f}\")"
   ]
  },
  {
   "cell_type": "markdown",
   "metadata": {},
   "source": [
    "## Maximise return for a given risk, with L2 regularisation\n",
    "L2 정규화를 통해 주어진 리스크에 대한 수익 극대화\n",
    "<!-- Let's imagine that we've put a lot of thought into our risk tolerance, and have decided that we can't accept anything more than 15% volatility. We can use PyPortfolioOpt to construct a portfolio that maximises return for a given risk (with the same caveats about expected returns). -->\n",
    "\n",
    "위험 허용 범위에 대해 많은 고려를 했고 15% 이상의 변동성을 받아 들일 수 없다고 결정했다고 가정 해 봅시다. PyPortfolioOpt를 사용하여 주어진 위험에 대한 수익을 극대화하는 포트폴리오를 구성 할 수 있습니다(예상 수익에 대한 동일한 주의 사항 포함)."
   ]
  },
  {
   "cell_type": "code",
   "execution_count": 29,
   "metadata": {},
   "outputs": [
    {
     "data": {
      "text/plain": [
       "OrderedDict([('ACN', 0.0),\n",
       "             ('AMZN', 0.20605),\n",
       "             ('COST', 0.1),\n",
       "             ('DIS', 0.0),\n",
       "             ('F', 0.0),\n",
       "             ('GILD', 0.05251),\n",
       "             ('JPM', 0.0),\n",
       "             ('KO', 0.0),\n",
       "             ('LUV', 0.0),\n",
       "             ('MA', 0.44144),\n",
       "             ('MSFT', 0.05),\n",
       "             ('PFE', 0.0),\n",
       "             ('TSLA', 0.15),\n",
       "             ('UNH', 0.0),\n",
       "             ('XOM', 0.0)])"
      ]
     },
     "execution_count": 29,
     "metadata": {},
     "output_type": "execute_result"
    }
   ],
   "source": [
    "ef = EfficientFrontier(mu, S)\n",
    "ef.add_sector_constraints(sector_mapper, sector_lower, sector_upper)\n",
    "ef.efficient_risk(target_volatility=0.15)\n",
    "weights = ef.clean_weights()\n",
    "weights"
   ]
  },
  {
   "cell_type": "code",
   "execution_count": 30,
   "metadata": {},
   "outputs": [
    {
     "name": "stdout",
     "output_type": "stream",
     "text": [
      "9/15 tickers have zero weight\n"
     ]
    }
   ],
   "source": [
    "num_small = len([k for k in weights if weights[k] <= 1e-4])\n",
    "print(f\"{num_small}/{len(ef.tickers)} tickers have zero weight\")"
   ]
  },
  {
   "cell_type": "code",
   "execution_count": 31,
   "metadata": {},
   "outputs": [
    {
     "name": "stdout",
     "output_type": "stream",
     "text": [
      "Expected annual return: 28.6%\n",
      "Annual volatility: 15.0%\n",
      "Sharpe Ratio: 1.77\n"
     ]
    }
   ],
   "source": [
    "ef.portfolio_performance(verbose=True);"
   ]
  },
  {
   "cell_type": "markdown",
   "metadata": {},
   "source": [
    "<!-- While this portfolio seems like it meets our objectives, we might be worried by the fact that a lot of the tickers have been assigned zero weight. In effect, the optimiser is \"overfitting\" to the data you have provided -- you are much more likely to get better results by enforcing some level of diversification. One way of doing this is to use **L2 regularisation** – essentially, adding a penalty on the number of near-zero weights. -->\n",
    "\n",
    "이 포트폴리오가 우리의 목표를 충족하는 것처럼 보이지만 많은 티커에 0 가중치가 할당되어 있다는 사실에 대해 걱정할 수 있습니다. 실제로 옵티마이저는 제공한 데이터에 \"과적합\" 합니다. 일정 수준의 다각화를 적용하면 더 나은 결과를 얻을 가능성이 훨씬 더 높습니다. 이를 수행하는 한 가지 방법은 **L2 정규화**를 사용하는 것입니다. 기본적으로 0에 가까운 가중치의 수에 패널티를 추가합니다."
   ]
  },
  {
   "cell_type": "code",
   "execution_count": 32,
   "metadata": {},
   "outputs": [
    {
     "data": {
      "text/plain": [
       "OrderedDict([('ACN', 0.04475),\n",
       "             ('AMZN', 0.21633),\n",
       "             ('COST', 0.0897),\n",
       "             ('DIS', 0.00607),\n",
       "             ('F', 0.0),\n",
       "             ('GILD', 0.08481),\n",
       "             ('JPM', 0.04044),\n",
       "             ('KO', 0.0103),\n",
       "             ('LUV', 0.02332),\n",
       "             ('MA', 0.25235),\n",
       "             ('MSFT', 0.05),\n",
       "             ('PFE', 0.0),\n",
       "             ('TSLA', 0.15),\n",
       "             ('UNH', 0.03193),\n",
       "             ('XOM', 0.0)])"
      ]
     },
     "execution_count": 32,
     "metadata": {},
     "output_type": "execute_result"
    }
   ],
   "source": [
    "from pypfopt import objective_functions\n",
    "\n",
    "# You must always create a new efficient frontier object\n",
    "ef = EfficientFrontier(mu, S)\n",
    "ef.add_sector_constraints(sector_mapper, sector_lower, sector_upper)\n",
    "ef.add_objective(objective_functions.L2_reg, gamma=0.1)  # gamme is the tuning parameter\n",
    "ef.efficient_risk(0.15)\n",
    "weights = ef.clean_weights()\n",
    "weights"
   ]
  },
  {
   "cell_type": "code",
   "execution_count": 33,
   "metadata": {},
   "outputs": [
    {
     "name": "stdout",
     "output_type": "stream",
     "text": [
      "3/15 tickers have zero weight\n"
     ]
    }
   ],
   "source": [
    "num_small = len([k for k in weights if weights[k] <= 1e-4])\n",
    "print(f\"{num_small}/{len(ef.tickers)} tickers have zero weight\")"
   ]
  },
  {
   "cell_type": "markdown",
   "metadata": {},
   "source": [
    "<!-- We can tune the value of gamma to choose the number of nonzero tickers. Larger gamma pulls portfolio weights towards an equal allocation. -->\n",
    "\n",
    "0이 아닌 티커 수를 선택하기 위해 gamma 값을 조정할 수 있습니다. gamma가 클수록 포트폴리오 가중치가 균등하게 할당됩니다."
   ]
  },
  {
   "cell_type": "code",
   "execution_count": 34,
   "metadata": {},
   "outputs": [
    {
     "data": {
      "text/plain": [
       "OrderedDict([('ACN', 0.05542),\n",
       "             ('AMZN', 0.13456),\n",
       "             ('COST', 0.06177),\n",
       "             ('DIS', 0.06192),\n",
       "             ('F', 0.0611),\n",
       "             ('GILD', 0.08155),\n",
       "             ('JPM', 0.0774),\n",
       "             ('KO', 0.03823),\n",
       "             ('LUV', 0.0637),\n",
       "             ('MA', 0.08365),\n",
       "             ('MSFT', 0.07076),\n",
       "             ('PFE', 0.03973),\n",
       "             ('TSLA', 0.0889),\n",
       "             ('UNH', 0.0621),\n",
       "             ('XOM', 0.01921)])"
      ]
     },
     "execution_count": 34,
     "metadata": {},
     "output_type": "execute_result"
    }
   ],
   "source": [
    "ef = EfficientFrontier(mu, S)\n",
    "ef.add_sector_constraints(sector_mapper, sector_lower, sector_upper)\n",
    "ef.add_objective(objective_functions.L2_reg, gamma=1)  # gamme is the tuning parameter\n",
    "ef.efficient_risk(0.15)\n",
    "weights = ef.clean_weights()\n",
    "weights"
   ]
  },
  {
   "cell_type": "code",
   "execution_count": 35,
   "metadata": {},
   "outputs": [
    {
     "data": {
      "image/png": "[encoded data removed]",
      "text/plain": [
       "<Figure size 720x720 with 1 Axes>"
      ]
     },
     "metadata": {},
     "output_type": "display_data"
    }
   ],
   "source": [
    "pd.Series(weights).plot.pie(figsize=(10, 10));"
   ]
  },
  {
   "cell_type": "code",
   "execution_count": 36,
   "metadata": {},
   "outputs": [
    {
     "name": "stdout",
     "output_type": "stream",
     "text": [
      "Expected annual return: 25.5%\n",
      "Annual volatility: 14.8%\n",
      "Sharpe Ratio: 1.59\n"
     ]
    }
   ],
   "source": [
    "ef.portfolio_performance(verbose=True);"
   ]
  },
  {
   "cell_type": "markdown",
   "metadata": {},
   "source": [
    "<!-- The resulting portfolio still has a volatility of less than our 15% limit. It's in-sample Sharpe ratio has gone down, but this portfolio is a lot more robust for actual investment. -->\n",
    "\n",
    "그 결과로 생긴 포트폴리오의 변동성은 여전히 15% 한도 미만입니다. 샘플 내 샤프 비율이 낮아졌지만 이 포트폴리오는 실제 투자에 훨씬 더 견고합니다."
   ]
  },
  {
   "cell_type": "markdown",
   "metadata": {},
   "source": [
    "## Minimise risk for a given return, market-neutral\n",
    "주어진 수익, 시장 중립에 대한 위험 최소화\n",
    "\n",
    "<!-- We may instead be in the situation where we have a certain required rate of return (maybe we are a pension fund that needs 7% return a year), but would like to minimise risk. Additionally, suppose we would like our portfolio to be market neutral, in the sense that it is equally exposed to the long and short sides.   -->\n",
    "\n",
    "대신 우리는 특정 필수 수익률(연금 7% 수익률이 필요한 연금 기금 일 수도 있음)을 가지고 있지만 위험을 최소화하고자 할 수 있습니다. 또한, 우리의 포트폴리오가 롱숏측에 똑같이 노출된다는 점에서 시장 중립적이기를 원한다고 가정합니다."
   ]
  },
  {
   "cell_type": "code",
   "execution_count": 37,
   "metadata": {},
   "outputs": [
    {
     "data": {
      "text/plain": [
       "OrderedDict([('ACN', -0.0329),\n",
       "             ('AMZN', 0.21523),\n",
       "             ('COST', -0.05492),\n",
       "             ('DIS', -0.00632),\n",
       "             ('F', -0.00842),\n",
       "             ('GILD', 0.05086),\n",
       "             ('JPM', 0.04187),\n",
       "             ('KO', -0.12885),\n",
       "             ('LUV', -0.00293),\n",
       "             ('MA', 0.06363),\n",
       "             ('MSFT', 0.01905),\n",
       "             ('PFE', -0.07996),\n",
       "             ('TSLA', 0.0812),\n",
       "             ('UNH', -0.00746),\n",
       "             ('XOM', -0.15008)])"
      ]
     },
     "execution_count": 37,
     "metadata": {},
     "output_type": "execute_result"
    }
   ],
   "source": [
    "# Must have no weight bounds to allow shorts\n",
    "ef = EfficientFrontier(mu, S, weight_bounds=(None, None))\n",
    "ef.add_objective(objective_functions.L2_reg)\n",
    "ef.efficient_return(target_return=0.07, market_neutral=True)\n",
    "weights = ef.clean_weights()\n",
    "weights"
   ]
  },
  {
   "cell_type": "code",
   "execution_count": 38,
   "metadata": {},
   "outputs": [
    {
     "name": "stdout",
     "output_type": "stream",
     "text": [
      "Expected annual return: 7.0%\n",
      "Annual volatility: 10.2%\n",
      "Sharpe Ratio: 0.49\n"
     ]
    }
   ],
   "source": [
    "ef.portfolio_performance(verbose=True);"
   ]
  },
  {
   "cell_type": "code",
   "execution_count": 39,
   "metadata": {},
   "outputs": [
    {
     "data": {
      "image/png": "[encoded data removed]",
      "text/plain": [
       "<Figure size 720x432 with 1 Axes>"
      ]
     },
     "metadata": {
      "needs_background": "light"
     },
     "output_type": "display_data"
    }
   ],
   "source": [
    "pd.Series(weights).plot.barh(figsize=(10,6));"
   ]
  },
  {
   "cell_type": "code",
   "execution_count": 40,
   "metadata": {},
   "outputs": [
    {
     "name": "stdout",
     "output_type": "stream",
     "text": [
      "Net weight: 0.00\n"
     ]
    }
   ],
   "source": [
    "print(f\"Net weight: {sum(weights.values()):.2f}\")"
   ]
  },
  {
   "cell_type": "markdown",
   "metadata": {},
   "source": [
    "## Plotting\n",
    "\n",
    "<!-- To plot the unconstrained efficient frontier, we can use the critical line algorithm.  -->\n",
    "\n",
    "제한되지 않은 효율적인 프론티어를 플로팅하기 위해 임계선 알고리즘을 사용할 수 있습니다."
   ]
  },
  {
   "cell_type": "code",
   "execution_count": 41,
   "metadata": {},
   "outputs": [
    {
     "name": "stdout",
     "output_type": "stream",
     "text": [
      "Expected annual return: 26.0%\n",
      "Annual volatility: 12.5%\n",
      "Sharpe Ratio: 1.92\n"
     ]
    }
   ],
   "source": [
    "from pypfopt import CLA, plotting\n",
    "\n",
    "cla = CLA(mu, S)\n",
    "cla.max_sharpe()\n",
    "cla.portfolio_performance(verbose=True);"
   ]
  },
  {
   "cell_type": "code",
   "execution_count": 42,
   "metadata": {},
   "outputs": [
    {
     "data": {
      "image/png": "[encoded data removed]",
      "text/plain": [
       "<Figure size 432x288 with 1 Axes>"
      ]
     },
     "metadata": {
      "needs_background": "light"
     },
     "output_type": "display_data"
    }
   ],
   "source": [
    "ax = plotting.plot_efficient_frontier(cla, showfig=False)"
   ]
  },
  {
   "cell_type": "markdown",
   "metadata": {},
   "source": [
    "<!-- PyPortfolioOpt does not yet suport plotting the constrained efficient frontier (i.e based on `EfficientFrontier` objects). Such support may arrive in a future version. It is possible to do this manually by looping over portfolios: -->\n",
    "\n",
    "PyPortfolioOpt는 제한된 효율적인 프론티어 (즉, `EfficientFrontier` 객체를 기반으로 함) 플로팅을 아직 지원하지 않습니다. 이러한 지원은 향후 버전에 포함될 수 있습니다. 포트폴리오를 반복하여 수동으로 수행 할 수 있습니다."
   ]
  },
  {
   "cell_type": "code",
   "execution_count": 43,
   "metadata": {},
   "outputs": [
    {
     "data": {
      "image/png": "[encoded data removed]",
      "text/plain": [
       "<Figure size 432x288 with 1 Axes>"
      ]
     },
     "metadata": {
      "needs_background": "light"
     },
     "output_type": "display_data"
    }
   ],
   "source": [
    "returns, sigmas = [], []\n",
    "for delta in np.arange(1, 100, 1):\n",
    "    ef = EfficientFrontier(mu, S, weight_bounds=(0.02, 0.15))\n",
    "    ef.max_quadratic_utility(delta)\n",
    "    ret, sigma, _ = ef.portfolio_performance()\n",
    "    returns.append(ret)\n",
    "    sigmas.append(sigma)\n",
    "plt.plot(sigmas, returns);"
   ]
  },
  {
   "cell_type": "code",
   "execution_count": null,
   "metadata": {},
   "outputs": [],
   "source": []
  }
 ],
 "metadata": {
  "kernelspec": {
   "display_name": "Python 3",
   "language": "python",
   "name": "python3"
  },
  "language_info": {
   "codemirror_mode": {
    "name": "ipython",
    "version": 3
   },
   "file_extension": ".py",
   "mimetype": "text/x-python",
   "name": "python",
   "nbconvert_exporter": "python",
   "pygments_lexer": "ipython3",
   "version": "3.7.0"
  }
 },
 "nbformat": 4,
 "nbformat_minor": 4
}
