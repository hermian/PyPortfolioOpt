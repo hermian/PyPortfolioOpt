{
 "cells": [
  {
   "cell_type": "markdown",
   "metadata": {},
   "source": [
    "# Black-Litterman allocation\n",
    "\n",
    "<!-- The Black-Litterman method is a very powerful way of converting your views on asset returns, along with your uncertainty in these views, into a portfolio. -->\n",
    "\n",
    "Black-Litterman 방법은 자산 수익에 대한 견해와 이러한 견해의 불확실성을 포트폴리오로 전환하는 매우 강력한 방법입니다.\n",
    "\n",
    "<!-- For a description of the theory, please read the [documentation page](https://pyportfolioopt.readthedocs.io/en/latest/BlackLitterman.html) and the links therein. -->\n",
    "\n",
    "이론에 대한 설명은 [문서 페이지](https://pyportfolioopt.readthedocs.io/en/latest/BlackLitterman.html)와 링크를 참조하십시오\n",
    "\n",
    "<!-- In this recipe, we will cover:\n",
    "\n",
    "- Downloading data for the Black-Litterman method\n",
    "- Constructing the prior return vector based on market equilibrium\n",
    "- Two ways of constructing the uncertainty matrix\n",
    "- Combining Black-Litterman with mean-variance optimisation -->\n",
    "\n",
    "이 레시피에서는 다음을 다룹니다.\n",
    "\n",
    "- Black-Litterman 메서드에 대한 데이터 다운로드\n",
    "- 시장 균형을 기반으로 사전 수익 벡터 구성\n",
    "- 불확실성 매트릭스를 구성하는 두 가지 방법\n",
    "- Black-Litterman과 평균 분산 최적화 결합\n",
    "\n",
    "## Downloading data\n",
    "\n",
    "<!-- In addition to price data, constructing a market prior requires market-caps.  -->\n",
    "\n",
    "가격 데이터 외에도 시장을 사전에 구성하려면 시가총액<sup>market-caps</sup>이 필요합니다."
   ]
  },
  {
   "cell_type": "code",
   "execution_count": 1,
   "metadata": {},
   "outputs": [],
   "source": [
    "import numpy as np\n",
    "import pandas as pd\n",
    "import matplotlib.pyplot as plt\n",
    "import yfinance as yf"
   ]
  },
  {
   "cell_type": "code",
   "execution_count": 2,
   "metadata": {},
   "outputs": [],
   "source": [
    "tickers = [\"MSFT\", \"AMZN\", \"NAT\", \"BAC\", \"DPZ\", \"DIS\", \"KO\", \"MCD\", \"COST\", \"SBUX\"]"
   ]
  },
  {
   "cell_type": "code",
   "execution_count": 3,
   "metadata": {},
   "outputs": [
    {
     "name": "stdout",
     "output_type": "stream",
     "text": [
      "[*********************100%***********************]  10 of 10 completed\n"
     ]
    },
    {
     "data": {
      "text/html": [
       "<div>\n",
       "<style scoped>\n",
       "    .dataframe tbody tr th:only-of-type {\n",
       "        vertical-align: middle;\n",
       "    }\n",
       "\n",
       "    .dataframe tbody tr th {\n",
       "        vertical-align: top;\n",
       "    }\n",
       "\n",
       "    .dataframe thead th {\n",
       "        text-align: right;\n",
       "    }\n",
       "</style>\n",
       "<table border=\"1\" class=\"dataframe\">\n",
       "  <thead>\n",
       "    <tr style=\"text-align: right;\">\n",
       "      <th></th>\n",
       "      <th>AMZN</th>\n",
       "      <th>BAC</th>\n",
       "      <th>COST</th>\n",
       "      <th>DIS</th>\n",
       "      <th>DPZ</th>\n",
       "      <th>KO</th>\n",
       "      <th>MCD</th>\n",
       "      <th>MSFT</th>\n",
       "      <th>NAT</th>\n",
       "      <th>SBUX</th>\n",
       "    </tr>\n",
       "    <tr>\n",
       "      <th>Date</th>\n",
       "      <th></th>\n",
       "      <th></th>\n",
       "      <th></th>\n",
       "      <th></th>\n",
       "      <th></th>\n",
       "      <th></th>\n",
       "      <th></th>\n",
       "      <th></th>\n",
       "      <th></th>\n",
       "      <th></th>\n",
       "    </tr>\n",
       "  </thead>\n",
       "  <tbody>\n",
       "    <tr>\n",
       "      <th>2020-11-16</th>\n",
       "      <td>3131.060059</td>\n",
       "      <td>27.580000</td>\n",
       "      <td>379.790009</td>\n",
       "      <td>144.669998</td>\n",
       "      <td>384.820007</td>\n",
       "      <td>53.849998</td>\n",
       "      <td>216.729996</td>\n",
       "      <td>216.662766</td>\n",
       "      <td>3.26</td>\n",
       "      <td>97.779999</td>\n",
       "    </tr>\n",
       "    <tr>\n",
       "      <th>2020-11-17</th>\n",
       "      <td>3135.659912</td>\n",
       "      <td>27.549999</td>\n",
       "      <td>381.920013</td>\n",
       "      <td>144.500000</td>\n",
       "      <td>384.470001</td>\n",
       "      <td>53.680000</td>\n",
       "      <td>216.009995</td>\n",
       "      <td>213.900009</td>\n",
       "      <td>3.27</td>\n",
       "      <td>98.599998</td>\n",
       "    </tr>\n",
       "    <tr>\n",
       "      <th>2020-11-18</th>\n",
       "      <td>3105.459961</td>\n",
       "      <td>26.980000</td>\n",
       "      <td>382.230011</td>\n",
       "      <td>143.899994</td>\n",
       "      <td>382.459991</td>\n",
       "      <td>52.610001</td>\n",
       "      <td>215.520004</td>\n",
       "      <td>211.080002</td>\n",
       "      <td>3.08</td>\n",
       "      <td>97.910004</td>\n",
       "    </tr>\n",
       "    <tr>\n",
       "      <th>2020-11-19</th>\n",
       "      <td>3117.020020</td>\n",
       "      <td>26.980000</td>\n",
       "      <td>383.540009</td>\n",
       "      <td>141.720001</td>\n",
       "      <td>385.040009</td>\n",
       "      <td>53.130001</td>\n",
       "      <td>215.110001</td>\n",
       "      <td>212.419998</td>\n",
       "      <td>3.25</td>\n",
       "      <td>97.760002</td>\n",
       "    </tr>\n",
       "    <tr>\n",
       "      <th>2020-11-20</th>\n",
       "      <td>3099.399902</td>\n",
       "      <td>26.809999</td>\n",
       "      <td>381.119995</td>\n",
       "      <td>141.070007</td>\n",
       "      <td>389.559998</td>\n",
       "      <td>52.669998</td>\n",
       "      <td>214.089996</td>\n",
       "      <td>210.389999</td>\n",
       "      <td>3.31</td>\n",
       "      <td>97.010002</td>\n",
       "    </tr>\n",
       "  </tbody>\n",
       "</table>\n",
       "</div>"
      ],
      "text/plain": [
       "                   AMZN        BAC        COST         DIS         DPZ  \\\n",
       "Date                                                                     \n",
       "2020-11-16  3131.060059  27.580000  379.790009  144.669998  384.820007   \n",
       "2020-11-17  3135.659912  27.549999  381.920013  144.500000  384.470001   \n",
       "2020-11-18  3105.459961  26.980000  382.230011  143.899994  382.459991   \n",
       "2020-11-19  3117.020020  26.980000  383.540009  141.720001  385.040009   \n",
       "2020-11-20  3099.399902  26.809999  381.119995  141.070007  389.559998   \n",
       "\n",
       "                   KO         MCD        MSFT   NAT       SBUX  \n",
       "Date                                                            \n",
       "2020-11-16  53.849998  216.729996  216.662766  3.26  97.779999  \n",
       "2020-11-17  53.680000  216.009995  213.900009  3.27  98.599998  \n",
       "2020-11-18  52.610001  215.520004  211.080002  3.08  97.910004  \n",
       "2020-11-19  53.130001  215.110001  212.419998  3.25  97.760002  \n",
       "2020-11-20  52.669998  214.089996  210.389999  3.31  97.010002  "
      ]
     },
     "execution_count": 3,
     "metadata": {},
     "output_type": "execute_result"
    }
   ],
   "source": [
    "ohlc = yf.download(tickers, period=\"max\")\n",
    "prices = ohlc[\"Adj Close\"]\n",
    "prices.tail()"
   ]
  },
  {
   "cell_type": "code",
   "execution_count": 4,
   "metadata": {},
   "outputs": [
    {
     "name": "stdout",
     "output_type": "stream",
     "text": [
      "[*********************100%***********************]  1 of 1 completed\n"
     ]
    },
    {
     "data": {
      "text/plain": [
       "Date\n",
       "1993-01-29    26.079659\n",
       "1993-02-01    26.265144\n",
       "1993-02-02    26.320782\n",
       "1993-02-03    26.599014\n",
       "1993-02-04    26.710312\n",
       "Name: Adj Close, dtype: float64"
      ]
     },
     "execution_count": 4,
     "metadata": {},
     "output_type": "execute_result"
    }
   ],
   "source": [
    "market_prices = yf.download(\"SPY\", period=\"max\")[\"Adj Close\"]\n",
    "market_prices.head()"
   ]
  },
  {
   "cell_type": "code",
   "execution_count": 9,
   "metadata": {},
   "outputs": [
    {
     "name": "stdout",
     "output_type": "stream",
     "text": [
      "MSFT\n",
      "AMZN\n",
      "NAT\n",
      "BAC\n",
      "DPZ\n",
      "DIS\n",
      "KO\n",
      "MCD\n",
      "COST\n",
      "SBUX\n"
     ]
    },
    {
     "data": {
      "text/plain": [
       "{'MSFT': 1590653616128,\n",
       " 'AMZN': 1555127074816,\n",
       " 'NAT': 500488512,\n",
       " 'BAC': 231927676928,\n",
       " 'DPZ': 15348625408,\n",
       " 'DIS': 254921965568,\n",
       " 'KO': 226345631744,\n",
       " 'MCD': 159520800768,\n",
       " 'COST': 168160821248,\n",
       " 'SBUX': 113860632576}"
      ]
     },
     "execution_count": 9,
     "metadata": {},
     "output_type": "execute_result"
    }
   ],
   "source": [
    "mcaps = {}\n",
    "for t in tickers:\n",
    "    stock = yf.Ticker(t)\n",
    "    print(t)\n",
    "    mcaps[t] = stock.info[\"marketCap\"]\n",
    "mcaps"
   ]
  },
  {
   "cell_type": "markdown",
   "metadata": {},
   "source": [
    "## Constructing the prior 사전 구축"
   ]
  },
  {
   "cell_type": "code",
   "execution_count": 10,
   "metadata": {},
   "outputs": [
    {
     "data": {
      "text/plain": [
       "'1.2.7'"
      ]
     },
     "execution_count": 10,
     "metadata": {},
     "output_type": "execute_result"
    }
   ],
   "source": [
    "import pypfopt\n",
    "pypfopt.__version__"
   ]
  },
  {
   "cell_type": "code",
   "execution_count": 11,
   "metadata": {},
   "outputs": [
    {
     "data": {
      "text/plain": [
       "2.567252332022072"
      ]
     },
     "execution_count": 11,
     "metadata": {},
     "output_type": "execute_result"
    }
   ],
   "source": [
    "from pypfopt import black_litterman, risk_models\n",
    "from pypfopt import BlackLittermanModel, plotting\n",
    "\n",
    "S = risk_models.CovarianceShrinkage(prices).ledoit_wolf()\n",
    "delta = black_litterman.market_implied_risk_aversion(market_prices)\n",
    "delta"
   ]
  },
  {
   "cell_type": "code",
   "execution_count": 12,
   "metadata": {},
   "outputs": [
    {
     "data": {
      "image/png": "[encoded data removed]",
      "text/plain": [
       "<Figure size 432x288 with 2 Axes>"
      ]
     },
     "metadata": {
      "needs_background": "light"
     },
     "output_type": "display_data"
    }
   ],
   "source": [
    "plotting.plot_covariance(S, plot_correlation=True);"
   ]
  },
  {
   "cell_type": "code",
   "execution_count": 13,
   "metadata": {},
   "outputs": [
    {
     "data": {
      "text/plain": [
       "AMZN    0.187689\n",
       "BAC     0.100618\n",
       "COST    0.074340\n",
       "DIS     0.093951\n",
       "DPZ     0.047167\n",
       "KO      0.062546\n",
       "MCD     0.067277\n",
       "MSFT    0.127000\n",
       "NAT     0.051210\n",
       "SBUX    0.078970\n",
       "dtype: float64"
      ]
     },
     "execution_count": 13,
     "metadata": {},
     "output_type": "execute_result"
    }
   ],
   "source": [
    "market_prior = black_litterman.market_implied_prior_returns(mcaps, delta, S)\n",
    "market_prior"
   ]
  },
  {
   "cell_type": "code",
   "execution_count": 14,
   "metadata": {},
   "outputs": [
    {
     "data": {
      "image/png": "[encoded data removed]",
      "text/plain": [
       "<Figure size 720x360 with 1 Axes>"
      ]
     },
     "metadata": {
      "needs_background": "light"
     },
     "output_type": "display_data"
    }
   ],
   "source": [
    "market_prior.plot.barh(figsize=(10,5));"
   ]
  },
  {
   "cell_type": "markdown",
   "metadata": {},
   "source": [
    "## Views\n",
    "\n",
    "<!-- In the BL method, views are specified via the matrix P (picking matrix) and the vector Q. Q contains the magnitude of each view, while P maps the views to the assets they belong to.  -->\n",
    "\n",
    "BL 메서드에서 뷰는 행렬 P(픽킹 행렬)와 벡터 Q를 통해 지정됩니다. Q에는 각 뷰의 크기가 포함되고 P는 뷰가 속한 자산에 매핑됩니다.\n",
    "\n",
    "\n",
    "<!-- If you are providing **absolute views** (i.e a return estimate for each asset), you don't have to worry about P and Q, you can just pass your views as a dictionary. -->\n",
    "\n",
    "**절대적 뷰**<sup>absolute views</sup>(예 : 각 자산에 대한 예상 수익)를 제공하는 경우 P와 Q에 대해 걱정할 필요가 없으며 뷰를 사전으로 전달할 수 있습니다.\n",
    "\n"
   ]
  },
  {
   "cell_type": "code",
   "execution_count": 15,
   "metadata": {},
   "outputs": [],
   "source": [
    "# You don't have to provide views on all the assets\n",
    "viewdict = {\n",
    "    \"AMZN\": 0.10,\n",
    "    \"BAC\": 0.30,\n",
    "    \"COST\": 0.05,\n",
    "    \"DIS\": 0.05,\n",
    "    \"DPZ\": 0.20,\n",
    "    \"KO\": -0.05,  # I think Coca-Cola will go down 5%\n",
    "    \"MCD\": 0.15,\n",
    "    \"MSFT\": 0.10,\n",
    "    \"NAT\": 0.50,  # but low confidence, which will be reflected later\n",
    "    \"SBUX\": 0.10\n",
    "}\n",
    "\n",
    "bl = BlackLittermanModel(S, pi=market_prior, absolute_views=viewdict)"
   ]
  },
  {
   "cell_type": "markdown",
   "metadata": {},
   "source": [
    "<!-- Black-Litterman also allows for relative views, e.g you think asset A will outperform asset B by 10%. If you'd like to incorporate these, you will have to build P and Q yourself. An explanation for this is given in the [docs](https://pyportfolioopt.readthedocs.io/en/latest/BlackLitterman.html#views). -->\n",
    "\n",
    "Black-Litterman은 또한 예를 들어 자산 A가 자산 B를 10% 능가 할 것이라고 생각하는 등의 상대적인 뷰를 허용합니다. 이를 통합하려면 P와 Q를 직접 만들어야합니다. 이에 대한 설명은 [문서](https://pyportfolioopt.readthedocs.io/en/latest/BlackLitterman.html#views)에 나와 있습니다."
   ]
  },
  {
   "cell_type": "markdown",
   "metadata": {},
   "source": [
    "## View confidences\n",
    "\n",
    "<!-- In this section, we provide two ways that you may wish to construct the uncertainty matrix. The first is known as Idzorek's method. It allows you to specify a vector/list of percentage confidences. -->\n",
    "\n",
    "이 섹션에서는 불확실성<sup>uncertainty</sup> 매트릭스를 구성 할 수 있는 두 가지 방법을 제공합니다. 첫 번째는 Idzorek의 메서드로 알려져 있습니다. 벡터/백분율 신뢰도 리스트를 지정할 수 있습니다."
   ]
  },
  {
   "cell_type": "code",
   "execution_count": 16,
   "metadata": {},
   "outputs": [],
   "source": [
    "confidences = [\n",
    "    0.6,\n",
    "    0.4,\n",
    "    0.2,\n",
    "    0.5,\n",
    "    0.7, # confident in dominos\n",
    "    0.7, # confident KO will do poorly\n",
    "    0.7, \n",
    "    0.5,\n",
    "    0.1,\n",
    "    0.4\n",
    "]"
   ]
  },
  {
   "cell_type": "code",
   "execution_count": 17,
   "metadata": {},
   "outputs": [],
   "source": [
    "bl = BlackLittermanModel(S, pi=market_prior, absolute_views=viewdict, omega=\"idzorek\", view_confidences=confidences)"
   ]
  },
  {
   "cell_type": "code",
   "execution_count": 18,
   "metadata": {},
   "outputs": [
    {
     "data": {
      "image/png": "[encoded data removed]",
      "text/plain": [
       "<Figure size 504x504 with 1 Axes>"
      ]
     },
     "metadata": {
      "needs_background": "light"
     },
     "output_type": "display_data"
    }
   ],
   "source": [
    "fig, ax = plt.subplots(figsize=(7,7))\n",
    "im = ax.imshow(bl.omega)\n",
    "\n",
    "# We want to show all ticks...\n",
    "ax.set_xticks(np.arange(len(bl.tickers)))\n",
    "ax.set_yticks(np.arange(len(bl.tickers)))\n",
    "\n",
    "ax.set_xticklabels(bl.tickers)\n",
    "ax.set_yticklabels(bl.tickers)\n",
    "plt.show()"
   ]
  },
  {
   "cell_type": "code",
   "execution_count": 19,
   "metadata": {},
   "outputs": [
    {
     "data": {
      "text/plain": [
       "array([0.00459877, 0.00900387, 0.01214375, 0.00497373, 0.00080721,\n",
       "       0.00125653, 0.00196619, 0.00345157, 0.03433906, 0.00538514])"
      ]
     },
     "execution_count": 19,
     "metadata": {},
     "output_type": "execute_result"
    }
   ],
   "source": [
    "np.diag(bl.omega)"
   ]
  },
  {
   "cell_type": "markdown",
   "metadata": {},
   "source": [
    "<!-- Note how NAT, which we gave the lowest confidence, also has the highest uncertainty. -->\n",
    "\n",
    "가장 낮은 신뢰도를 제공 한 NAT가 또한 가장 높은 불확실성을 가지고 있음을 주목하십시오.\n",
    "\n",
    "<!-- Instead of inputting confidences, we can calculate the uncertainty matrix directly by specifying 1 standard deviation confidence intervals, i.e bounds which we think will contain the true return 68% of the time. This may be easier than coming up with somewhat arbitrary percentage confidences -->\n",
    "\n",
    "신뢰도를 입력하는 대신 1개의 표준 편차 신뢰 구간, 즉 시간의 68%가 실제 수익을 포함 할 것으로 생각되는 경계를 지정하여 불확실성 행렬을 직접 계산할 수 있습니다. 이것은 임의의 백분율 신뢰도를 갖는 것보다 쉬울 수 있습니다."
   ]
  },
  {
   "cell_type": "code",
   "execution_count": 20,
   "metadata": {},
   "outputs": [],
   "source": [
    "intervals = [\n",
    "    (0, 0.25),\n",
    "    (0.1, 0.4),\n",
    "    (-0.1, 0.15),\n",
    "    (-0.05, 0.1),\n",
    "    (0.15, 0.25),\n",
    "    (-0.1, 0),\n",
    "    (0.1, 0.2),\n",
    "    (0.08, 0.12),\n",
    "    (0.1, 0.9),\n",
    "    (0, 0.3)\n",
    "]"
   ]
  },
  {
   "cell_type": "code",
   "execution_count": 21,
   "metadata": {},
   "outputs": [
    {
     "name": "stdout",
     "output_type": "stream",
     "text": [
      "[0.015625, 0.022500000000000006, 0.015625, 0.0056250000000000015, 0.0025000000000000005, 0.0025000000000000005, 0.0025000000000000005, 0.00039999999999999986, 0.16000000000000003, 0.0225]\n"
     ]
    }
   ],
   "source": [
    "variances = []\n",
    "for lb, ub in intervals:\n",
    "    sigma = (ub - lb)/2\n",
    "    variances.append(sigma ** 2)\n",
    "\n",
    "print(variances)\n",
    "omega = np.diag(variances)"
   ]
  },
  {
   "cell_type": "markdown",
   "metadata": {},
   "source": [
    "## Posterior estimates 사후 추정치\n",
    "\n",
    "<!-- Given the inputs, we can compute a posterior estimate of returns -->\n",
    "\n",
    "입력 값이 주어지면 수익의 사후 추정치를 계산할 수 있습니다."
   ]
  },
  {
   "cell_type": "code",
   "execution_count": 22,
   "metadata": {},
   "outputs": [],
   "source": [
    "# We are using the shortcut to automatically compute market-implied prior\n",
    "bl = BlackLittermanModel(S, pi=\"market\", market_caps=mcaps, risk_aversion=delta,\n",
    "                        absolute_views=viewdict, omega=omega)"
   ]
  },
  {
   "cell_type": "code",
   "execution_count": 23,
   "metadata": {},
   "outputs": [
    {
     "data": {
      "text/plain": [
       "AMZN    0.163564\n",
       "BAC     0.134765\n",
       "COST    0.060686\n",
       "DIS     0.073348\n",
       "DPZ     0.101779\n",
       "KO      0.004721\n",
       "MCD     0.108347\n",
       "MSFT    0.102125\n",
       "NAT     0.060862\n",
       "SBUX    0.082837\n",
       "dtype: float64"
      ]
     },
     "execution_count": 23,
     "metadata": {},
     "output_type": "execute_result"
    }
   ],
   "source": [
    "# Posterior estimate of returns\n",
    "ret_bl = bl.bl_returns()\n",
    "ret_bl"
   ]
  },
  {
   "cell_type": "markdown",
   "metadata": {},
   "source": [
    "<!-- We can visualise how this compares to the prior and our views: -->\n",
    "\n",
    "이것이 이전 및 우리의 견해와 어떻게 비교되는지 시각화 할 수 있습니다."
   ]
  },
  {
   "cell_type": "code",
   "execution_count": 24,
   "metadata": {},
   "outputs": [
    {
     "data": {
      "text/html": [
       "<div>\n",
       "<style scoped>\n",
       "    .dataframe tbody tr th:only-of-type {\n",
       "        vertical-align: middle;\n",
       "    }\n",
       "\n",
       "    .dataframe tbody tr th {\n",
       "        vertical-align: top;\n",
       "    }\n",
       "\n",
       "    .dataframe thead th {\n",
       "        text-align: right;\n",
       "    }\n",
       "</style>\n",
       "<table border=\"1\" class=\"dataframe\">\n",
       "  <thead>\n",
       "    <tr style=\"text-align: right;\">\n",
       "      <th></th>\n",
       "      <th>Prior</th>\n",
       "      <th>Posterior</th>\n",
       "      <th>Views</th>\n",
       "    </tr>\n",
       "  </thead>\n",
       "  <tbody>\n",
       "    <tr>\n",
       "      <th>AMZN</th>\n",
       "      <td>0.187689</td>\n",
       "      <td>0.163564</td>\n",
       "      <td>0.10</td>\n",
       "    </tr>\n",
       "    <tr>\n",
       "      <th>BAC</th>\n",
       "      <td>0.100618</td>\n",
       "      <td>0.134765</td>\n",
       "      <td>0.30</td>\n",
       "    </tr>\n",
       "    <tr>\n",
       "      <th>COST</th>\n",
       "      <td>0.074340</td>\n",
       "      <td>0.060686</td>\n",
       "      <td>0.05</td>\n",
       "    </tr>\n",
       "    <tr>\n",
       "      <th>DIS</th>\n",
       "      <td>0.093951</td>\n",
       "      <td>0.073348</td>\n",
       "      <td>0.05</td>\n",
       "    </tr>\n",
       "    <tr>\n",
       "      <th>DPZ</th>\n",
       "      <td>0.047167</td>\n",
       "      <td>0.101779</td>\n",
       "      <td>0.20</td>\n",
       "    </tr>\n",
       "    <tr>\n",
       "      <th>KO</th>\n",
       "      <td>0.062546</td>\n",
       "      <td>0.004721</td>\n",
       "      <td>-0.05</td>\n",
       "    </tr>\n",
       "    <tr>\n",
       "      <th>MCD</th>\n",
       "      <td>0.067277</td>\n",
       "      <td>0.108347</td>\n",
       "      <td>0.15</td>\n",
       "    </tr>\n",
       "    <tr>\n",
       "      <th>MSFT</th>\n",
       "      <td>0.127000</td>\n",
       "      <td>0.102125</td>\n",
       "      <td>0.10</td>\n",
       "    </tr>\n",
       "    <tr>\n",
       "      <th>NAT</th>\n",
       "      <td>0.051210</td>\n",
       "      <td>0.060862</td>\n",
       "      <td>0.50</td>\n",
       "    </tr>\n",
       "    <tr>\n",
       "      <th>SBUX</th>\n",
       "      <td>0.078970</td>\n",
       "      <td>0.082837</td>\n",
       "      <td>0.10</td>\n",
       "    </tr>\n",
       "  </tbody>\n",
       "</table>\n",
       "</div>"
      ],
      "text/plain": [
       "         Prior  Posterior  Views\n",
       "AMZN  0.187689   0.163564   0.10\n",
       "BAC   0.100618   0.134765   0.30\n",
       "COST  0.074340   0.060686   0.05\n",
       "DIS   0.093951   0.073348   0.05\n",
       "DPZ   0.047167   0.101779   0.20\n",
       "KO    0.062546   0.004721  -0.05\n",
       "MCD   0.067277   0.108347   0.15\n",
       "MSFT  0.127000   0.102125   0.10\n",
       "NAT   0.051210   0.060862   0.50\n",
       "SBUX  0.078970   0.082837   0.10"
      ]
     },
     "execution_count": 24,
     "metadata": {},
     "output_type": "execute_result"
    }
   ],
   "source": [
    "rets_df = pd.DataFrame([market_prior, ret_bl, pd.Series(viewdict)], \n",
    "             index=[\"Prior\", \"Posterior\", \"Views\"]).T\n",
    "rets_df"
   ]
  },
  {
   "cell_type": "code",
   "execution_count": 25,
   "metadata": {},
   "outputs": [
    {
     "data": {
      "image/png": "[encoded data removed]",
      "text/plain": [
       "<Figure size 864x576 with 1 Axes>"
      ]
     },
     "metadata": {
      "needs_background": "light"
     },
     "output_type": "display_data"
    }
   ],
   "source": [
    "rets_df.plot.bar(figsize=(12,8));"
   ]
  },
  {
   "cell_type": "markdown",
   "metadata": {},
   "source": [
    "<!-- Notice that the posterior is often between the prior and the views. This supports the fact that the BL method is essentially a Bayesian weighted-average of the prior and views, where the weight is determined by the confidence. -->\n",
    "\n",
    "사후는 종종 사전과 뷰 사이에 있습니다. 이는 BL 방법이 기본적으로 사전 및 뷰의 베이지안 가중 평균이라는 사실을 뒷받침합니다. 여기서 가중치는 신뢰도에 의해 결정됩니다.\n",
    "\n",
    "<!-- A similar but less intuitive procedure can be used to produce the posterior covariance estimate: -->\n",
    "\n",
    "유사하지만 덜 직관적인 절차를 사용하여 사후 공분산 추정치를 생성 할 수 있습니다."
   ]
  },
  {
   "cell_type": "code",
   "execution_count": 26,
   "metadata": {},
   "outputs": [
    {
     "data": {
      "image/png": "[encoded data removed]",
      "text/plain": [
       "<Figure size 432x288 with 2 Axes>"
      ]
     },
     "metadata": {
      "needs_background": "light"
     },
     "output_type": "display_data"
    }
   ],
   "source": [
    "S_bl = bl.bl_cov()\n",
    "plotting.plot_covariance(S_bl);"
   ]
  },
  {
   "cell_type": "markdown",
   "metadata": {},
   "source": [
    "## Portfolio allocation\n",
    "\n",
    "<!-- Now that we have constructed our Black-Litterman posterior estimate, we can proceed to use any of the optimisers discussed in previous recipes. -->\n",
    "\n",
    "이제 Black-Litterman 사후 추정치를 구성 했으므로 이전 레시피에서 논의한 옵티 마이저를 계속 사용할 수 있습니다."
   ]
  },
  {
   "cell_type": "code",
   "execution_count": 27,
   "metadata": {},
   "outputs": [],
   "source": [
    "from pypfopt import EfficientFrontier, objective_functions"
   ]
  },
  {
   "cell_type": "code",
   "execution_count": 28,
   "metadata": {},
   "outputs": [
    {
     "name": "stderr",
     "output_type": "stream",
     "text": [
      "/Users/hosung/anaconda3/envs/quantpython/lib/python3.7/site-packages/pypfopt/efficient_frontier.py:196: UserWarning: max_sharpe transforms the optimisation problem so additional objectives may not work as expected.\n",
      "  \"max_sharpe transforms the optimisation problem so additional objectives may not work as expected.\"\n"
     ]
    },
    {
     "data": {
      "text/plain": [
       "OrderedDict([('AMZN', 0.20645),\n",
       "             ('BAC', 0.16067),\n",
       "             ('COST', 0.0521),\n",
       "             ('DIS', 0.06499),\n",
       "             ('DPZ', 0.12869),\n",
       "             ('KO', 0.0),\n",
       "             ('MCD', 0.12965),\n",
       "             ('MSFT', 0.11719),\n",
       "             ('NAT', 0.05489),\n",
       "             ('SBUX', 0.08537)])"
      ]
     },
     "execution_count": 28,
     "metadata": {},
     "output_type": "execute_result"
    }
   ],
   "source": [
    "ef = EfficientFrontier(ret_bl, S_bl)\n",
    "ef.add_objective(objective_functions.L2_reg)\n",
    "ef.max_sharpe()\n",
    "weights = ef.clean_weights()\n",
    "weights"
   ]
  },
  {
   "cell_type": "code",
   "execution_count": 29,
   "metadata": {},
   "outputs": [
    {
     "data": {
      "image/png": "[encoded data removed]",
      "text/plain": [
       "<Figure size 720x720 with 1 Axes>"
      ]
     },
     "metadata": {},
     "output_type": "display_data"
    }
   ],
   "source": [
    "pd.Series(weights).plot.pie(figsize=(10,10));"
   ]
  },
  {
   "cell_type": "code",
   "execution_count": 30,
   "metadata": {},
   "outputs": [
    {
     "name": "stdout",
     "output_type": "stream",
     "text": [
      "Leftover: $249.47\n"
     ]
    },
    {
     "data": {
      "text/plain": [
       "{'AMZN': 1,\n",
       " 'BAC': 120,\n",
       " 'COST': 3,\n",
       " 'DIS': 10,\n",
       " 'DPZ': 7,\n",
       " 'MCD': 13,\n",
       " 'MSFT': 12,\n",
       " 'NAT': 332,\n",
       " 'SBUX': 18}"
      ]
     },
     "execution_count": 30,
     "metadata": {},
     "output_type": "execute_result"
    }
   ],
   "source": [
    "from pypfopt import DiscreteAllocation\n",
    "\n",
    "da = DiscreteAllocation(weights, prices.iloc[-1], total_portfolio_value=20000)\n",
    "alloc, leftover = da.lp_portfolio()\n",
    "print(f\"Leftover: ${leftover:.2f}\")\n",
    "alloc"
   ]
  },
  {
   "cell_type": "code",
   "execution_count": null,
   "metadata": {},
   "outputs": [],
   "source": []
  }
 ],
 "metadata": {
  "kernelspec": {
   "display_name": "Python 3",
   "language": "python",
   "name": "python3"
  },
  "language_info": {
   "codemirror_mode": {
    "name": "ipython",
    "version": 3
   },
   "file_extension": ".py",
   "mimetype": "text/x-python",
   "name": "python",
   "nbconvert_exporter": "python",
   "pygments_lexer": "ipython3",
   "version": "3.7.0"
  }
 },
 "nbformat": 4,
 "nbformat_minor": 4
}
