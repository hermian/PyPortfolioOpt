{
 "cells": [
  {
   "cell_type": "markdown",
   "metadata": {},
   "source": [
    "# Advanced MVO - custom objectives\n",
    "고급 MVO-맞춤형 목표\n",
    "\n",
    "<!-- PyPortfolioOpt has implemented some of the most common objective functions (e.g `min_volatility`, `max_sharpe`, `max_quadratic_utility`, `efficient_risk`, `efficient_return`). However, sometimes yoy may have an idea for a different objective function.\n",
    "\n",
    "In this cookbook recipe, we cover:\n",
    "\n",
    "- Mininimising transaction costs\n",
    "- Custom convex objectives\n",
    "- Custom nonconvex objectives -->\n",
    "\n",
    "PyPortfolioOpt는 가장 일반적인 목적 함수 중 일부를 구현했습니다 (예 : `min_volatility`, `max_sharpe`, `max_quadratic_utility`, `efficient_risk`, `efficient_return`). 그러나 때로는 다른 목적 함수에 대한 아이디어가 있을 수 있습니다.\n",
    "\n",
    "이 쿡북 레시피에서는 다음을 다룹니다.\n",
    "\n",
    "- 거래 비용<sup>transaction costs</sup> 최소화\n",
    "- 맞춤형 볼록 목표<sup>convex objectives</sup>\n",
    "- 맞춤형 비볼록록 목표<sup>nonconvex objectives</sup>\n",
    "\n",
    "## Acquiring data\n",
    "\n",
    "<!-- As discussed in the previous notebook, assets are an exogenous input (i.e you must come up with a list of tickers). We will use `yfinance` to download data for thesee tickers -->\n",
    "\n",
    "이전 노트북에서 설명했듯이 자산은 외생적 입력입니다(즉, 티커 목록을 작성해야 함). `yfinance`를 사용하여 티커에 대한 데이터를 다운로드합니다."
   ]
  },
  {
   "cell_type": "code",
   "execution_count": 1,
   "metadata": {},
   "outputs": [],
   "source": [
    "import yfinance as yf\n",
    "import pandas as pd\n",
    "import numpy as np\n",
    "import matplotlib.pyplot as plt"
   ]
  },
  {
   "cell_type": "code",
   "execution_count": 2,
   "metadata": {},
   "outputs": [],
   "source": [
    "tickers = [\"BLK\", \"BAC\", \"AAPL\", \"TM\", \"WMT\",\n",
    "           \"JD\", \"INTU\", \"MA\", \"UL\", \"CVS\",\n",
    "           \"DIS\", \"AMD\", \"NVDA\", \"PBI\", \"TGT\"]"
   ]
  },
  {
   "cell_type": "code",
   "execution_count": 6,
   "metadata": {},
   "outputs": [
    {
     "name": "stdout",
     "output_type": "stream",
     "text": [
      "[*********************100%***********************]  15 of 15 completed\n"
     ]
    }
   ],
   "source": [
    "ohlc = yf.download(tickers, end='2020-09-01')#period=\"max\")"
   ]
  },
  {
   "cell_type": "code",
   "execution_count": 7,
   "metadata": {},
   "outputs": [
    {
     "data": {
      "text/html": [
       "<div>\n",
       "<style scoped>\n",
       "    .dataframe tbody tr th:only-of-type {\n",
       "        vertical-align: middle;\n",
       "    }\n",
       "\n",
       "    .dataframe tbody tr th {\n",
       "        vertical-align: top;\n",
       "    }\n",
       "\n",
       "    .dataframe thead th {\n",
       "        text-align: right;\n",
       "    }\n",
       "</style>\n",
       "<table border=\"1\" class=\"dataframe\">\n",
       "  <thead>\n",
       "    <tr style=\"text-align: right;\">\n",
       "      <th></th>\n",
       "      <th>AAPL</th>\n",
       "      <th>AMD</th>\n",
       "      <th>BAC</th>\n",
       "      <th>BLK</th>\n",
       "      <th>CVS</th>\n",
       "      <th>DIS</th>\n",
       "      <th>INTU</th>\n",
       "      <th>JD</th>\n",
       "      <th>MA</th>\n",
       "      <th>NVDA</th>\n",
       "      <th>PBI</th>\n",
       "      <th>TGT</th>\n",
       "      <th>TM</th>\n",
       "      <th>UL</th>\n",
       "      <th>WMT</th>\n",
       "    </tr>\n",
       "    <tr>\n",
       "      <th>Date</th>\n",
       "      <th></th>\n",
       "      <th></th>\n",
       "      <th></th>\n",
       "      <th></th>\n",
       "      <th></th>\n",
       "      <th></th>\n",
       "      <th></th>\n",
       "      <th></th>\n",
       "      <th></th>\n",
       "      <th></th>\n",
       "      <th></th>\n",
       "      <th></th>\n",
       "      <th></th>\n",
       "      <th></th>\n",
       "      <th></th>\n",
       "    </tr>\n",
       "  </thead>\n",
       "  <tbody>\n",
       "    <tr>\n",
       "      <th>2020-08-25</th>\n",
       "      <td>124.610016</td>\n",
       "      <td>86.349998</td>\n",
       "      <td>25.820137</td>\n",
       "      <td>587.620605</td>\n",
       "      <td>62.936012</td>\n",
       "      <td>129.789993</td>\n",
       "      <td>335.827362</td>\n",
       "      <td>78.970001</td>\n",
       "      <td>347.255646</td>\n",
       "      <td>509.847473</td>\n",
       "      <td>6.196672</td>\n",
       "      <td>152.220764</td>\n",
       "      <td>134.789993</td>\n",
       "      <td>59.679874</td>\n",
       "      <td>130.630005</td>\n",
       "    </tr>\n",
       "    <tr>\n",
       "      <th>2020-08-26</th>\n",
       "      <td>126.304596</td>\n",
       "      <td>86.019997</td>\n",
       "      <td>25.383181</td>\n",
       "      <td>588.564880</td>\n",
       "      <td>62.172489</td>\n",
       "      <td>132.179993</td>\n",
       "      <td>341.736908</td>\n",
       "      <td>80.379997</td>\n",
       "      <td>350.611694</td>\n",
       "      <td>510.767212</td>\n",
       "      <td>5.928976</td>\n",
       "      <td>152.081345</td>\n",
       "      <td>134.889999</td>\n",
       "      <td>59.798878</td>\n",
       "      <td>130.699997</td>\n",
       "    </tr>\n",
       "    <tr>\n",
       "      <th>2020-08-27</th>\n",
       "      <td>124.794701</td>\n",
       "      <td>83.800003</td>\n",
       "      <td>25.869791</td>\n",
       "      <td>591.427673</td>\n",
       "      <td>62.856682</td>\n",
       "      <td>133.729996</td>\n",
       "      <td>344.392212</td>\n",
       "      <td>79.300003</td>\n",
       "      <td>355.585938</td>\n",
       "      <td>504.978912</td>\n",
       "      <td>5.879403</td>\n",
       "      <td>149.691208</td>\n",
       "      <td>133.559998</td>\n",
       "      <td>59.898048</td>\n",
       "      <td>136.630005</td>\n",
       "    </tr>\n",
       "    <tr>\n",
       "      <th>2020-08-28</th>\n",
       "      <td>124.592552</td>\n",
       "      <td>85.550003</td>\n",
       "      <td>26.118061</td>\n",
       "      <td>597.471436</td>\n",
       "      <td>62.678196</td>\n",
       "      <td>135.539993</td>\n",
       "      <td>345.500244</td>\n",
       "      <td>79.959999</td>\n",
       "      <td>365.694153</td>\n",
       "      <td>525.752686</td>\n",
       "      <td>5.790171</td>\n",
       "      <td>150.229004</td>\n",
       "      <td>133.919998</td>\n",
       "      <td>59.650124</td>\n",
       "      <td>140.300003</td>\n",
       "    </tr>\n",
       "    <tr>\n",
       "      <th>2020-08-31</th>\n",
       "      <td>128.817749</td>\n",
       "      <td>90.820000</td>\n",
       "      <td>25.561935</td>\n",
       "      <td>590.642456</td>\n",
       "      <td>61.597366</td>\n",
       "      <td>131.869995</td>\n",
       "      <td>344.781555</td>\n",
       "      <td>78.639999</td>\n",
       "      <td>357.773376</td>\n",
       "      <td>534.819946</td>\n",
       "      <td>5.443157</td>\n",
       "      <td>150.587524</td>\n",
       "      <td>132.429993</td>\n",
       "      <td>59.084862</td>\n",
       "      <td>138.850006</td>\n",
       "    </tr>\n",
       "  </tbody>\n",
       "</table>\n",
       "</div>"
      ],
      "text/plain": [
       "                  AAPL        AMD        BAC         BLK        CVS  \\\n",
       "Date                                                                  \n",
       "2020-08-25  124.610016  86.349998  25.820137  587.620605  62.936012   \n",
       "2020-08-26  126.304596  86.019997  25.383181  588.564880  62.172489   \n",
       "2020-08-27  124.794701  83.800003  25.869791  591.427673  62.856682   \n",
       "2020-08-28  124.592552  85.550003  26.118061  597.471436  62.678196   \n",
       "2020-08-31  128.817749  90.820000  25.561935  590.642456  61.597366   \n",
       "\n",
       "                   DIS        INTU         JD          MA        NVDA  \\\n",
       "Date                                                                    \n",
       "2020-08-25  129.789993  335.827362  78.970001  347.255646  509.847473   \n",
       "2020-08-26  132.179993  341.736908  80.379997  350.611694  510.767212   \n",
       "2020-08-27  133.729996  344.392212  79.300003  355.585938  504.978912   \n",
       "2020-08-28  135.539993  345.500244  79.959999  365.694153  525.752686   \n",
       "2020-08-31  131.869995  344.781555  78.639999  357.773376  534.819946   \n",
       "\n",
       "                 PBI         TGT          TM         UL         WMT  \n",
       "Date                                                                 \n",
       "2020-08-25  6.196672  152.220764  134.789993  59.679874  130.630005  \n",
       "2020-08-26  5.928976  152.081345  134.889999  59.798878  130.699997  \n",
       "2020-08-27  5.879403  149.691208  133.559998  59.898048  136.630005  \n",
       "2020-08-28  5.790171  150.229004  133.919998  59.650124  140.300003  \n",
       "2020-08-31  5.443157  150.587524  132.429993  59.084862  138.850006  "
      ]
     },
     "execution_count": 7,
     "metadata": {},
     "output_type": "execute_result"
    }
   ],
   "source": [
    "prices = ohlc[\"Adj Close\"]\n",
    "prices.tail()"
   ]
  },
  {
   "cell_type": "markdown",
   "metadata": {},
   "source": [
    "## Expected returns and risk models\n",
    "\n",
    "<!-- In this notebook, we will use James-Stein shrinkage and semicovariance (which only penalises downside risk). -->\n",
    "\n",
    "이 노트북에서는 James-Stein 수축 및 반공분산<sup>semicovariance</sup> (하방 위험만 불이익)을 사용합니다."
   ]
  },
  {
   "cell_type": "code",
   "execution_count": 8,
   "metadata": {},
   "outputs": [
    {
     "data": {
      "text/plain": [
       "'1.2.7'"
      ]
     },
     "execution_count": 8,
     "metadata": {},
     "output_type": "execute_result"
    }
   ],
   "source": [
    "import pypfopt\n",
    "pypfopt.__version__"
   ]
  },
  {
   "cell_type": "code",
   "execution_count": 9,
   "metadata": {},
   "outputs": [],
   "source": [
    "from pypfopt import risk_models, expected_returns\n",
    "from pypfopt import plotting\n",
    "\n",
    "mu = expected_returns.capm_return(prices)\n",
    "S = risk_models.semicovariance(prices)"
   ]
  },
  {
   "cell_type": "code",
   "execution_count": 10,
   "metadata": {},
   "outputs": [
    {
     "data": {
      "image/png": "[encoded data removed]",
      "text/plain": [
       "<Figure size 720x360 with 1 Axes>"
      ]
     },
     "metadata": {
      "needs_background": "light"
     },
     "output_type": "display_data"
    }
   ],
   "source": [
    "mu.plot.barh(figsize=(10,5));"
   ]
  },
  {
   "cell_type": "code",
   "execution_count": 11,
   "metadata": {},
   "outputs": [
    {
     "data": {
      "image/png": "[encoded data removed]",
      "text/plain": [
       "<Figure size 432x288 with 2 Axes>"
      ]
     },
     "metadata": {
      "needs_background": "light"
     },
     "output_type": "display_data"
    }
   ],
   "source": [
    "plotting.plot_covariance(S, plot_correlation=True);"
   ]
  },
  {
   "cell_type": "markdown",
   "metadata": {},
   "source": [
    "## Min volatility with a transaction cost objective\n",
    "\n",
    "<!-- Let's say that you already have a portfolio, and want to now optimise it. It could be quite expensive to completely reallocate, so you may want to take into account transaction costs. PyPortfolioOpt provides a simple objective to account for this.\n",
    "\n",
    "Note: this objective will not play nicely with `max_sharpe`. -->\n",
    "\n",
    "이미 포트폴리오를 보유하고 있고, 이를 최적화하려고 한다고 가정해 보겠습니다. 완전히 재 할당하려면 비용이 많이 들 수 있으므로 거래 비용을 고려할 수 있습니다. PyPortfolioOpt는 이를 설명하기 위한 간단한 목표를 제공합니다.\n",
    "\n",
    "참고:이 목표는 `max_sharpe`에서 제대로 작동하지 않습니다."
   ]
  },
  {
   "cell_type": "code",
   "execution_count": 12,
   "metadata": {},
   "outputs": [],
   "source": [
    "# Pretend that you started with a default-weight allocation\n",
    "initial_weights = np.array([1/len(tickers)] * len(tickers))"
   ]
  },
  {
   "cell_type": "code",
   "execution_count": 13,
   "metadata": {},
   "outputs": [
    {
     "data": {
      "text/plain": [
       "OrderedDict([('AAPL', 0.06667),\n",
       "             ('AMD', 0.0),\n",
       "             ('BAC', 0.0626),\n",
       "             ('BLK', 0.06667),\n",
       "             ('CVS', 0.06667),\n",
       "             ('DIS', 0.06667),\n",
       "             ('INTU', 0.06667),\n",
       "             ('JD', 0.1374),\n",
       "             ('MA', 0.06667),\n",
       "             ('NVDA', 0.06667),\n",
       "             ('PBI', 0.06667),\n",
       "             ('TGT', 0.06667),\n",
       "             ('TM', 0.06667),\n",
       "             ('UL', 0.06667),\n",
       "             ('WMT', 0.06667)])"
      ]
     },
     "execution_count": 13,
     "metadata": {},
     "output_type": "execute_result"
    }
   ],
   "source": [
    "from pypfopt import EfficientFrontier, objective_functions\n",
    "\n",
    "ef = EfficientFrontier(mu, S)\n",
    "\n",
    "# 1% broker commission\n",
    "ef.add_objective(objective_functions.transaction_cost, w_prev=initial_weights, k=0.01)\n",
    "ef.min_volatility()\n",
    "weights = ef.clean_weights()\n",
    "weights"
   ]
  },
  {
   "cell_type": "markdown",
   "metadata": {},
   "source": [
    "<!-- Notice that many of the weights are 0.06667, i.e your original equal weight. In fact, the only change has been an allocation of AMD's weight to JD. If we lower the cost `k`, the allocation will change more: -->\n",
    "\n",
    "많은 가중치가 0.06667입니다. 즉, 원래 동일한 가중치입니다. 사실 유일한 변화는 AMD의 가중치를 JD에 할당하는 것입니다. 비용 `k`를 낮추면 할당이 더 많이 변경됩니다."
   ]
  },
  {
   "cell_type": "code",
   "execution_count": 14,
   "metadata": {},
   "outputs": [
    {
     "data": {
      "text/plain": [
       "OrderedDict([('AAPL', 0.00047),\n",
       "             ('AMD', 0.0),\n",
       "             ('BAC', 0.0),\n",
       "             ('BLK', 0.06667),\n",
       "             ('CVS', 0.06423),\n",
       "             ('DIS', 0.0445),\n",
       "             ('INTU', 0.02921),\n",
       "             ('JD', 0.43452),\n",
       "             ('MA', 0.10516),\n",
       "             ('NVDA', 0.0),\n",
       "             ('PBI', 0.0146),\n",
       "             ('TGT', 0.02615),\n",
       "             ('TM', 0.06667),\n",
       "             ('UL', 0.08116),\n",
       "             ('WMT', 0.06667)])"
      ]
     },
     "execution_count": 14,
     "metadata": {},
     "output_type": "execute_result"
    }
   ],
   "source": [
    "ef = EfficientFrontier(mu, S)\n",
    "ef.add_objective(objective_functions.transaction_cost, w_prev=initial_weights, k=0.001)\n",
    "ef.min_volatility()\n",
    "weights = ef.clean_weights()\n",
    "weights"
   ]
  },
  {
   "cell_type": "markdown",
   "metadata": {},
   "source": [
    "<!-- The optimiser seems to really like JD. The reason for this is that it is highly anticorrelated to other assets (notice the dark column in the covariance plot). Hence, historically, it adds a lot of diversification. But it is dangerous to place too much emphasis on what happened in the past, so we may want to limit the asset weights.  -->\n",
    "\n",
    "옵티마이저는 JD를 정말 좋아하는 것 같습니다. 그 이유는 다른 자산과 상관관계가 매우 높기 때문입니다(공분산도의 어두운 열에 주목). 따라서 역사적으로 많은 다양성을 추가합니다. 그러나 과거에 일어난 일을 너무 강조하는 것은 위험하므로 자산 가중치를 제한 할 수 있습니다.\n",
    "\n",
    "<!-- In addition, we notice that 4 stocks have now been allocated zero weight, which may be undesirable. Both of these problems can be fixed by adding an [L2 regularisation objective](https://pyportfolioopt.readthedocs.io/en/latest/EfficientFrontier.html#more-on-l2-regularisation).  -->\n",
    "\n",
    "또한 현재 4 개의 주식에 0 가중치가 할당되어 바람직하지 않을 수 있습니다. 이 두 문제는 [L2 정규화 목표](https://pyportfolioopt.readthedocs.io/en/latest/EfficientFrontier.html#more-on-l2-regularisation)를 추가하여 해결할 수 있습니다."
   ]
  },
  {
   "cell_type": "code",
   "execution_count": 15,
   "metadata": {},
   "outputs": [
    {
     "data": {
      "text/plain": [
       "OrderedDict([('AAPL', 0.06363),\n",
       "             ('AMD', 0.05814),\n",
       "             ('BAC', 0.0632),\n",
       "             ('BLK', 0.06801),\n",
       "             ('CVS', 0.06725),\n",
       "             ('DIS', 0.06667),\n",
       "             ('INTU', 0.06639),\n",
       "             ('JD', 0.07366),\n",
       "             ('MA', 0.0701),\n",
       "             ('NVDA', 0.06381),\n",
       "             ('PBI', 0.0666),\n",
       "             ('TGT', 0.06664),\n",
       "             ('TM', 0.06855),\n",
       "             ('UL', 0.06913),\n",
       "             ('WMT', 0.06822)])"
      ]
     },
     "execution_count": 15,
     "metadata": {},
     "output_type": "execute_result"
    }
   ],
   "source": [
    "ef = EfficientFrontier(mu, S)\n",
    "ef.add_objective(objective_functions.transaction_cost, w_prev=initial_weights, k=0.001)\n",
    "ef.add_objective(objective_functions.L2_reg)\n",
    "ef.min_volatility()\n",
    "weights = ef.clean_weights()\n",
    "weights"
   ]
  },
  {
   "cell_type": "markdown",
   "metadata": {},
   "source": [
    "<!-- This has had too much of an evening-out effect. After all, if the resulting allocation is going to be so close to equal weights, we may as well stick with our initial allocation. We can reduce the strength of the L2 regularisation by reducing `gamma`: -->\n",
    "\n",
    "이것은 evening-out effect에 너무 많은 영향을 미쳤습니다. 결국 결과 할당이 동일한 가중치에 너무 가깝다면 초기 할당을 고수하는 것이 좋습니다. `gamma`를 줄임으로써 L2 정규화의 강도를 줄일 수 있습니다."
   ]
  },
  {
   "cell_type": "code",
   "execution_count": 16,
   "metadata": {},
   "outputs": [
    {
     "data": {
      "text/plain": [
       "OrderedDict([('AAPL', 0.03765),\n",
       "             ('AMD', 0.0),\n",
       "             ('BAC', 0.02106),\n",
       "             ('BLK', 0.07589),\n",
       "             ('CVS', 0.06667),\n",
       "             ('DIS', 0.06638),\n",
       "             ('INTU', 0.06052),\n",
       "             ('JD', 0.15916),\n",
       "             ('MA', 0.10662),\n",
       "             ('NVDA', 0.0353),\n",
       "             ('PBI', 0.0586),\n",
       "             ('TGT', 0.06022),\n",
       "             ('TM', 0.08333),\n",
       "             ('UL', 0.09101),\n",
       "             ('WMT', 0.07759)])"
      ]
     },
     "execution_count": 16,
     "metadata": {},
     "output_type": "execute_result"
    }
   ],
   "source": [
    "ef = EfficientFrontier(mu, S)\n",
    "ef.add_objective(objective_functions.transaction_cost, w_prev=initial_weights, k=0.001)\n",
    "ef.add_objective(objective_functions.L2_reg, gamma=0.05)  # default is 1\n",
    "ef.min_volatility()\n",
    "weights = ef.clean_weights()\n",
    "weights"
   ]
  },
  {
   "cell_type": "code",
   "execution_count": 17,
   "metadata": {},
   "outputs": [
    {
     "name": "stdout",
     "output_type": "stream",
     "text": [
      "Expected annual return: 18.4%\n",
      "Annual volatility: 8.1%\n",
      "Sharpe Ratio: 2.02\n"
     ]
    }
   ],
   "source": [
    "ef.portfolio_performance(verbose=True);"
   ]
  },
  {
   "cell_type": "markdown",
   "metadata": {},
   "source": [
    "<!-- This portfolio is now reasonably balanced, but also puts significantly more weight on JD.  -->\n",
    "\n",
    "이 포트폴리오는 이제 합리적으로 균형을 이루지만 JD에 훨씬 더 많은 비중을 둡니다."
   ]
  },
  {
   "cell_type": "code",
   "execution_count": 18,
   "metadata": {},
   "outputs": [
    {
     "data": {
      "image/png": "[encoded data removed]",
      "text/plain": [
       "<Figure size 720x720 with 1 Axes>"
      ]
     },
     "metadata": {},
     "output_type": "display_data"
    }
   ],
   "source": [
    "pd.Series(weights).plot.pie(figsize=(10,10));"
   ]
  },
  {
   "cell_type": "markdown",
   "metadata": {},
   "source": [
    "## Custom convex objectives\n",
    "<!-- \n",
    "PyPortfolioOpt comes with the following built-in objective functions, as of v1.2.1:\n",
    "\n",
    "- Portfolio variance (i.e square of volatility)\n",
    "- Portfolio return\n",
    "- Sharpe ratio\n",
    "- L2 regularisation (minimising this reduces nonzero weights)\n",
    "- Quadratic utility\n",
    "- Transaction cost model (a simple one)\n",
    " -->\n",
    "PyPortfolioOpt는 v1.2.1부터 다음과 같은 내장 목적 함수와 함께 제공됩니다.\n",
    "\n",
    "- 포트폴리오 분산 (즉, 변동성의 제곱)\n",
    "- 포트폴리오 수익률\n",
    "- 샤프 비율\n",
    "- L2 정규화 (최소화하면 0이 아닌 가중치 감소)\n",
    "- 2차 유틸리티\n",
    "- 거래 비용 모델 (간단한 모델)\n",
    "\n",
    "<!-- However, you may want have a different objective. If this new objective is **convex**, you can optimise a portfolio with the full benefit of PyPortfolioOpt's modular syntax, for example adding other constraints and objectives. -->\n",
    "\n",
    "그러나 다른 목표를 원할 수 있습니다. 이 새로운 목표가 **볼록(convex)** 한 경우 PyPortfolioOpt의 모듈식 구문을 최대한 활용하여 포트폴리오를 최적화 할 수 있습니다(예 : 다른 제약 조건 및 목표 추가).\n",
    "\n",
    "\n",
    "<!-- To demonstrate this, we will minimise the **logarithmic-barrier** function suggested in the paper 60 Years of Portfolio Optimisation, by Kolm et al (2014): -->\n",
    "\n",
    "이를 증명하기 위해 Kolm 등(2014)이 작성한 60 Years of Portfolio Optimisation 논문에서 제안한 **logarithmic-barrier** 함수를 최소화 할 것입니다.\n",
    "\n",
    "$$f(w, S, k) = w^T S w - k \\sum_{i=1}^N \\ln w$$\n",
    "\n",
    "<!-- We must first convert this mathematical objective into the language of cvxpy. Cvxpy is a powerful modelling language for convex optimisation problems. It is clean and easy to use, the only caveat is that objectives must be expressed with `cvxpy` functions, a list of which can be found [here](https://www.cvxpy.org/tutorial/functions/index.html). -->\n",
    "\n",
    "먼저 이 수학적 목표를 cvxpy의 언어로 변환해야합니다. Cvxpy는 볼록 최적화 문제를 위한 강력한 모델링 언어입니다. 깨끗하고 사용하기 쉽습니다. 유일한 주의점은 목표는 cvxpy 함수로 표현되어야한다는 것입니다. 목록은 [여기](https://www.cvxpy.org/tutorial/functions/index.html)에서 찾을 수 있습니다."
   ]
  },
  {
   "cell_type": "code",
   "execution_count": 19,
   "metadata": {},
   "outputs": [],
   "source": [
    "import cvxpy as cp\n",
    "\n",
    "# Note: functions are minimised. If you want to maximise an objective, stick a minus sign in it.\n",
    "def logarithmic_barrier_objective(w, cov_matrix, k=0.1):\n",
    "    log_sum = cp.sum(cp.log(w))\n",
    "    var = cp.quad_form(w, cov_matrix)\n",
    "    return var - k * log_sum"
   ]
  },
  {
   "cell_type": "markdown",
   "metadata": {},
   "source": [
    "<!-- Once we have written the objective function, we can just use the `ef.convex_objective()` to minimise the objective. -->\n",
    "\n",
    "목적 함수를 작성했으면 `ef.convex_objective()`를 사용하여 목적을 최소화 할 수 있습니다."
   ]
  },
  {
   "cell_type": "code",
   "execution_count": 20,
   "metadata": {},
   "outputs": [
    {
     "data": {
      "text/plain": [
       "OrderedDict([('AAPL', 0.0452),\n",
       "             ('AMD', 0.03304),\n",
       "             ('BAC', 0.04233),\n",
       "             ('BLK', 0.0686),\n",
       "             ('CVS', 0.06373),\n",
       "             ('DIS', 0.05807),\n",
       "             ('INTU', 0.0547),\n",
       "             ('JD', 0.16711),\n",
       "             ('MA', 0.0888),\n",
       "             ('NVDA', 0.04477),\n",
       "             ('PBI', 0.05471),\n",
       "             ('TGT', 0.0553),\n",
       "             ('TM', 0.07356),\n",
       "             ('UL', 0.07871),\n",
       "             ('WMT', 0.07137)])"
      ]
     },
     "execution_count": 20,
     "metadata": {},
     "output_type": "execute_result"
    }
   ],
   "source": [
    "ef = EfficientFrontier(mu, S, weight_bounds=(0.01, 0.2))\n",
    "ef.convex_objective(logarithmic_barrier_objective, cov_matrix=S, k=0.001)\n",
    "weights = ef.clean_weights()\n",
    "weights"
   ]
  },
  {
   "cell_type": "code",
   "execution_count": 21,
   "metadata": {},
   "outputs": [
    {
     "name": "stdout",
     "output_type": "stream",
     "text": [
      "Expected annual return: 19.1%\n",
      "Annual volatility: 8.5%\n",
      "Sharpe Ratio: 2.00\n"
     ]
    }
   ],
   "source": [
    "ef.portfolio_performance(verbose=True);"
   ]
  },
  {
   "cell_type": "markdown",
   "metadata": {},
   "source": [
    "<!-- This is compatible with all the constraints discussed in the previous recipe. Let's say that we want to limit JD's weight to 15%. -->\n",
    "\n",
    "이는 이전 레시피에서 논의 된 모든 제약 조건과 호환됩니다. JD의 가중치를 15%로 제한한다고 가정해 보겠습니다."
   ]
  },
  {
   "cell_type": "code",
   "execution_count": 22,
   "metadata": {},
   "outputs": [
    {
     "data": {
      "text/plain": [
       "OrderedDict([('AAPL', 0.04571),\n",
       "             ('AMD', 0.03325),\n",
       "             ('BAC', 0.04269),\n",
       "             ('BLK', 0.07029),\n",
       "             ('CVS', 0.06497),\n",
       "             ('DIS', 0.05901),\n",
       "             ('INTU', 0.0556),\n",
       "             ('JD', 0.15),\n",
       "             ('MA', 0.09221),\n",
       "             ('NVDA', 0.04536),\n",
       "             ('PBI', 0.05564),\n",
       "             ('TGT', 0.05611),\n",
       "             ('TM', 0.07534),\n",
       "             ('UL', 0.08087),\n",
       "             ('WMT', 0.07294)])"
      ]
     },
     "execution_count": 22,
     "metadata": {},
     "output_type": "execute_result"
    }
   ],
   "source": [
    "ef = EfficientFrontier(mu, S, weight_bounds=(0.01, 0.2))\n",
    "jd_index = ef.tickers.index(\"JD\")  # get the index of JD\n",
    "ef.add_constraint(lambda w: w[jd_index] <= 0.15)\n",
    "ef.convex_objective(logarithmic_barrier_objective, cov_matrix=S, k=0.001)\n",
    "weights = ef.clean_weights()\n",
    "weights"
   ]
  },
  {
   "cell_type": "markdown",
   "metadata": {},
   "source": [
    "## Custom nonconvex objectives\n",
    "\n",
    "<!-- In some cases, you may be trying to optimise for nonconvex objectives. Optimisation in general is a very hard problem, so please be aware that you may have mixed results in that case. Convex problems, on the other hand, are well understood and can be solved with nice theoretical guarantees. -->\n",
    "\n",
    "경우에 따라 볼록하지 않은 목표를 최적화하려고 할 수 있습니다. 일반적으로 최적화는 매우 어려운 문제이므로 이 경우 결과가 혼합 될 수 있습니다. 반면에 볼록 문제는 잘 이해되고 이론적으로 훌륭한 보증을 통해 해결할 수 있습니다.\n",
    "\n",
    "<!-- PyPortfolioOpt does offer some functionality for nonconvex optimisation, but it is not really encouraged. In particular, nonconvex optimisation is not compatible with PyPortfolioOpt's modular constraints API. -->\n",
    "\n",
    "PyPortfolioOpt는 비볼록 최적화를 위한 일부 기능을 제공하지만 실제로 권장하지는 않습니다. 특히 비볼록 최적화는 PyPortfolioOpt의 모듈 식 제약 API와 호환되지 않습니다.\n",
    "\n",
    "<!-- As an example, we will use the Deviation Risk Parity objective from Kolm et al (2014). Because we are not using a convex solver, we don't have to define it using `cvxpy` functions. -->\n",
    "\n",
    "예를 들어 Kolm 등 (2014)의 편차 위험 패리티 목표<sup>Deviation Risk Parity objective</sup>를 사용합니다. 볼록 해결자<sup>solver</sup>를 사용하지 않기 때문에 `cvxpy` 함수를 사용하여 정의 할 필요가 없습니다."
   ]
  },
  {
   "cell_type": "code",
   "execution_count": 23,
   "metadata": {},
   "outputs": [],
   "source": [
    "def deviation_risk_parity(w, cov_matrix):\n",
    "    diff = w * np.dot(cov_matrix, w) - (w * np.dot(cov_matrix, w)).reshape(-1, 1)\n",
    "    return (diff ** 2).sum().sum()"
   ]
  },
  {
   "cell_type": "code",
   "execution_count": 24,
   "metadata": {},
   "outputs": [
    {
     "data": {
      "text/plain": [
       "OrderedDict([('AAPL', 0.05854),\n",
       "             ('AMD', 0.03286),\n",
       "             ('BAC', 0.05895),\n",
       "             ('BLK', 0.07272),\n",
       "             ('CVS', 0.07206),\n",
       "             ('DIS', 0.06983),\n",
       "             ('INTU', 0.06756),\n",
       "             ('JD', 0.07463),\n",
       "             ('MA', 0.07473),\n",
       "             ('NVDA', 0.05965),\n",
       "             ('PBI', 0.06875),\n",
       "             ('TGT', 0.06875),\n",
       "             ('TM', 0.07349),\n",
       "             ('UL', 0.07412),\n",
       "             ('WMT', 0.07336)])"
      ]
     },
     "execution_count": 24,
     "metadata": {},
     "output_type": "execute_result"
    }
   ],
   "source": [
    "ef = EfficientFrontier(mu, S, weight_bounds=(0.01, 0.12))\n",
    "ef.nonconvex_objective(deviation_risk_parity, ef.cov_matrix)\n",
    "weights = ef.clean_weights()\n",
    "weights"
   ]
  },
  {
   "cell_type": "markdown",
   "metadata": {},
   "source": [
    "<!-- However, let's say we now want to enforce that JD has a weight of 10%. In the convex case, this would be as simple as: -->\n",
    "그러나 이제 JD가 10%의 가중치를 갖도록 강제하려고 한다고 가정해 보겠습니다. 볼록한 경우 다음과 같이 간단합니다.\n",
    "\n",
    "```python\n",
    "ef.add_objective(lambda w: w[jd_index] == 0.10)\n",
    "```\n",
    "\n",
    "<!-- But unfortunately it is not so simple for PyPortfolioOpt's nonconvex optimisation. Constraints should be passed using the `scipy` syntax. This means you need to rearrange your constraints to make them either `=0` or `<= 0`.  -->\n",
    "\n",
    "그러나 불행히도 PyPortfolioOpt의 비볼록 최적화는 그렇게 간단하지 않습니다. 제약 조건은 `scipy` 구문을 사용하여 전달해야합니다. 즉, 제약 조건을 `=0` 또는 `<= 0`으로 만들기 위해 재정렬해야 합니다.\n",
    "\n",
    "```python\n",
    "constraints = [\n",
    "    # First constraint\n",
    "     {\"type\": \"eq\",  # equality constraint,\n",
    "      \"fun\": lambda w: w[1] - 0.2},  # the equality functions are assumed to = 0 \n",
    "      \n",
    "    # Second constraint\n",
    "    {\"type\": \"ineq\",  # inequality constraint\n",
    "     \"fun\": lambda w: w[0] - 0.5}   # inequality functions <= 0\n",
    "]\n",
    "```\n",
    "\n",
    "<!-- For more information, you can consult the [scipy docs](https://docs.scipy.org/doc/scipy/reference/generated/scipy.optimize.minimize.html), but they aren't very helpful. -->\n",
    "\n",
    "자세한 내용은 [scipy 문서](https://docs.scipy.org/doc/scipy/reference/generated/scipy.optimize.minimize.html)를 참조 할 수 있지만 그다지 도움이 되지는 않습니다."
   ]
  },
  {
   "cell_type": "code",
   "execution_count": 25,
   "metadata": {},
   "outputs": [
    {
     "data": {
      "text/plain": [
       "OrderedDict([('AAPL', 0.06409),\n",
       "             ('AMD', 0.06339),\n",
       "             ('BAC', 0.06411),\n",
       "             ('BLK', 0.06446),\n",
       "             ('CVS', 0.06444),\n",
       "             ('DIS', 0.06439),\n",
       "             ('INTU', 0.06433),\n",
       "             ('JD', 0.1),\n",
       "             ('MA', 0.06451),\n",
       "             ('NVDA', 0.06412),\n",
       "             ('PBI', 0.06436),\n",
       "             ('TGT', 0.06436),\n",
       "             ('TM', 0.06448),\n",
       "             ('UL', 0.06449),\n",
       "             ('WMT', 0.06447)])"
      ]
     },
     "execution_count": 25,
     "metadata": {},
     "output_type": "execute_result"
    }
   ],
   "source": [
    "ef = EfficientFrontier(mu, S, weight_bounds=(0.01, 0.12))\n",
    "\n",
    "ef.nonconvex_objective(\n",
    "    deviation_risk_parity,\n",
    "    objective_args=S,\n",
    "    weights_sum_to_one=True,\n",
    "    constraints=[\n",
    "        {\"type\": \"eq\", \"fun\": lambda w: w[jd_index] - 0.10},  \n",
    "    ],\n",
    ")\n",
    "\n",
    "weights = ef.clean_weights()\n",
    "weights"
   ]
  },
  {
   "cell_type": "markdown",
   "metadata": {},
   "source": [
    "## More examples of nonconvex objectives\n",
    "\n",
    "<!-- The scipy format is not intuitive and is hard to explain, so here are a bunch of examples (adapted from the tests). Some of these are actually convex, so you should use `convex_objective` instead.  -->\n",
    "\n",
    "scipy 형식은 직관적이지 않고 설명하기 어렵기 때문에 여기에 여러 예제가 있습니다(테스트에서 채택됨). 이들 중 일부는 실제로 볼록하므로 `convex_objective`를 대신 사용해야합니다."
   ]
  },
  {
   "cell_type": "code",
   "execution_count": 26,
   "metadata": {},
   "outputs": [
    {
     "data": {
      "text/plain": [
       "OrderedDict([('AAPL', 0.04463),\n",
       "             ('AMD', 0.03246),\n",
       "             ('BAC', 0.04173),\n",
       "             ('BLK', 0.06834),\n",
       "             ('CVS', 0.06341),\n",
       "             ('DIS', 0.05762),\n",
       "             ('INTU', 0.05417),\n",
       "             ('JD', 0.17191),\n",
       "             ('MA', 0.08906),\n",
       "             ('NVDA', 0.04414),\n",
       "             ('PBI', 0.0542),\n",
       "             ('TGT', 0.05479),\n",
       "             ('TM', 0.07345),\n",
       "             ('UL', 0.07885),\n",
       "             ('WMT', 0.07123)])"
      ]
     },
     "execution_count": 26,
     "metadata": {},
     "output_type": "execute_result"
    }
   ],
   "source": [
    "# Another example of deviation risk parity\n",
    "def deviation_risk_parity(w, cov_matrix):\n",
    "    n = cov_matrix.shape[0]\n",
    "    rp = (w * (cov_matrix @ w)) / cp.quad_form(w, cov_matrix)\n",
    "    return cp.sum_squares(rp - 1 / n).value\n",
    "\n",
    "ef = EfficientFrontier(mu, S)\n",
    "ef.nonconvex_objective(deviation_risk_parity, ef.cov_matrix)\n",
    "weights = ef.clean_weights()\n",
    "weights"
   ]
  },
  {
   "cell_type": "code",
   "execution_count": 27,
   "metadata": {},
   "outputs": [
    {
     "data": {
      "text/plain": [
       "OrderedDict([('AAPL', 0.1),\n",
       "             ('AMD', 0.03428),\n",
       "             ('BAC', 0.04728),\n",
       "             ('BLK', 0.07117),\n",
       "             ('CVS', 0.06565),\n",
       "             ('DIS', 0.06036),\n",
       "             ('INTU', 0.05601),\n",
       "             ('JD', 0.09988),\n",
       "             ('MA', 0.0864),\n",
       "             ('NVDA', 0.04806),\n",
       "             ('PBI', 0.05947),\n",
       "             ('TGT', 0.05733),\n",
       "             ('TM', 0.07087),\n",
       "             ('UL', 0.07494),\n",
       "             ('WMT', 0.06829)])"
      ]
     },
     "execution_count": 27,
     "metadata": {},
     "output_type": "execute_result"
    }
   ],
   "source": [
    "# Deviation risk parity with weight bound on the first asset\n",
    "ef = EfficientFrontier(mu, S)\n",
    "ef.nonconvex_objective(deviation_risk_parity, \n",
    "                       ef.cov_matrix, \n",
    "                       constraints=[{\"type\":\"eq\", \"fun\":lambda w: w[0] - 0.1}])\n",
    "weights = ef.clean_weights()\n",
    "weights"
   ]
  },
  {
   "cell_type": "code",
   "execution_count": 28,
   "metadata": {},
   "outputs": [
    {
     "data": {
      "text/plain": [
       "OrderedDict([('AAPL', 0.09243),\n",
       "             ('AMD', 0.16881),\n",
       "             ('BAC', 0.00164),\n",
       "             ('BLK', -0.14501),\n",
       "             ('CVS', -0.19388),\n",
       "             ('DIS', 0.21401),\n",
       "             ('INTU', 0.11244),\n",
       "             ('JD', 0.14436),\n",
       "             ('MA', 0.66951),\n",
       "             ('NVDA', 0.44258),\n",
       "             ('PBI', -0.07308),\n",
       "             ('TGT', 0.00018),\n",
       "             ('TM', -0.52697),\n",
       "             ('UL', -0.74008),\n",
       "             ('WMT', -0.16695)])"
      ]
     },
     "execution_count": 28,
     "metadata": {},
     "output_type": "execute_result"
    }
   ],
   "source": [
    "# Market-neutral efficient risk.\n",
    "# Please use ef.efficient_risk() for anything serious.\n",
    "target_risk = 0.19\n",
    "ef = EfficientFrontier(mu, S, weight_bounds=(None, None))\n",
    "\n",
    "# Weights sum to zero\n",
    "weight_constr = {\"type\": \"eq\", \"fun\": lambda w: np.sum(w)}\n",
    "\n",
    "# Portfolio vol less than target vol\n",
    "risk_constr = {\n",
    "    \"type\": \"eq\",\n",
    "    \"fun\": lambda w: target_risk ** 2 - np.dot(w.T, np.dot(ef.cov_matrix, w)),\n",
    "}\n",
    "constraints = [weight_constr, risk_constr]\n",
    "\n",
    "ef.nonconvex_objective(\n",
    "    lambda w, mu: -w.T.dot(mu),  # min negative return i.e max return\n",
    "    objective_args=(ef.expected_returns),\n",
    "    weights_sum_to_one=False,\n",
    "    constraints=constraints,\n",
    ")\n",
    "weights = ef.clean_weights()\n",
    "weights"
   ]
  },
  {
   "cell_type": "code",
   "execution_count": 29,
   "metadata": {},
   "outputs": [
    {
     "data": {
      "text/plain": [
       "OrderedDict([('AAPL', 0.0),\n",
       "             ('AMD', 0.08998),\n",
       "             ('BAC', 0.0),\n",
       "             ('BLK', 0.0),\n",
       "             ('CVS', 0.0),\n",
       "             ('DIS', 0.0),\n",
       "             ('INTU', 0.0),\n",
       "             ('JD', 0.0),\n",
       "             ('MA', 0.0),\n",
       "             ('NVDA', 0.91002),\n",
       "             ('PBI', 0.0),\n",
       "             ('TGT', 0.0),\n",
       "             ('TM', 0.0),\n",
       "             ('UL', 0.0),\n",
       "             ('WMT', 0.0)])"
      ]
     },
     "execution_count": 29,
     "metadata": {},
     "output_type": "execute_result"
    }
   ],
   "source": [
    "# Utility objective - you could actually use ef.max_quadratic_utility\n",
    "ef = EfficientFrontier(mu, S)\n",
    "\n",
    "def utility_obj(weights, mu, cov_matrix, k=1):\n",
    "    return -weights.dot(mu) + k * np.dot(weights.T, np.dot(cov_matrix, weights))\n",
    "\n",
    "ef.nonconvex_objective(\n",
    "    utility_obj,\n",
    "    objective_args=(ef.expected_returns, ef.cov_matrix, 1)\n",
    "    # default is for weights to sum to 1\n",
    ")\n",
    "\n",
    "weights = ef.clean_weights()\n",
    "weights"
   ]
  },
  {
   "cell_type": "code",
   "execution_count": 30,
   "metadata": {},
   "outputs": [
    {
     "data": {
      "text/plain": [
       "1.0000000000000002"
      ]
     },
     "execution_count": 30,
     "metadata": {},
     "output_type": "execute_result"
    }
   ],
   "source": [
    "ef.weights.sum()"
   ]
  },
  {
   "cell_type": "code",
   "execution_count": 31,
   "metadata": {},
   "outputs": [
    {
     "data": {
      "text/plain": [
       "OrderedDict([('AAPL', 0.06667),\n",
       "             ('AMD', 0.06667),\n",
       "             ('BAC', 0.06667),\n",
       "             ('BLK', 0.06667),\n",
       "             ('CVS', 0.06667),\n",
       "             ('DIS', 0.06667),\n",
       "             ('INTU', 0.06667),\n",
       "             ('JD', 0.06667),\n",
       "             ('MA', 0.06667),\n",
       "             ('NVDA', 0.06667),\n",
       "             ('PBI', 0.06667),\n",
       "             ('TGT', 0.06667),\n",
       "             ('TM', 0.06667),\n",
       "             ('UL', 0.06667),\n",
       "             ('WMT', 0.06667)])"
      ]
     },
     "execution_count": 31,
     "metadata": {},
     "output_type": "execute_result"
    }
   ],
   "source": [
    "# Kelly objective with weight bounds on zeroth asset\n",
    "def kelly_objective(w, e_returns, cov_matrix, k=3):\n",
    "    variance = np.dot(w.T, np.dot(cov_matrix, w))\n",
    "    objective = variance * 0.5 * k - np.dot(w, e_returns)\n",
    "    return objective\n",
    "\n",
    "lower_bounds, upper_bounds = 0.01, 0.3\n",
    "ef = EfficientFrontier(mu, S)\n",
    "ef.nonconvex_objective(\n",
    "    kelly_objective,\n",
    "    objective_args=(ef.expected_returns, ef.cov_matrix, 1000),\n",
    "    constraints=[\n",
    "        {\"type\": \"eq\", \"fun\": lambda w: np.sum(w) - 1},\n",
    "        {\"type\": \"ineq\", \"fun\": lambda w: w[0] - lower_bounds},\n",
    "        {\"type\": \"ineq\", \"fun\": lambda w: upper_bounds - w[0]},\n",
    "    ],\n",
    ")\n",
    "\n",
    "weights = ef.clean_weights()\n",
    "weights"
   ]
  },
  {
   "cell_type": "code",
   "execution_count": null,
   "metadata": {},
   "outputs": [],
   "source": []
  }
 ],
 "metadata": {
  "kernelspec": {
   "display_name": "Python 3",
   "language": "python",
   "name": "python3"
  },
  "language_info": {
   "codemirror_mode": {
    "name": "ipython",
    "version": 3
   },
   "file_extension": ".py",
   "mimetype": "text/x-python",
   "name": "python",
   "nbconvert_exporter": "python",
   "pygments_lexer": "ipython3",
   "version": "3.7.0"
  }
 },
 "nbformat": 4,
 "nbformat_minor": 4
}
